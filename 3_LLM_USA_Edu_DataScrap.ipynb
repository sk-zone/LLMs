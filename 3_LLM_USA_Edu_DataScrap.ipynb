{
  "nbformat": 4,
  "nbformat_minor": 0,
  "metadata": {
    "colab": {
      "provenance": [],
      "gpuType": "T4"
    },
    "kernelspec": {
      "name": "python3",
      "display_name": "Python 3"
    },
    "language_info": {
      "name": "python"
    }
  },
  "cells": [
    {
      "cell_type": "code",
      "source": [
        "!pip install -q requests beautifulsoup4 trafilatura\n",
        "\n",
        "import requests\n",
        "from bs4 import BeautifulSoup\n",
        "import trafilatura\n",
        "import time\n",
        "\n",
        "\n",
        "\n",
        "UNIVERSITY_URLS = {\n",
        "    \"MIT-OCW\": \"https://ocw.mit.edu/courses/\",\n",
        "    \"MIT-AI\": \"https://www.eecs.mit.edu/category/news/\",\n",
        "    \"Stanford-AI\": \"https://ai.stanford.edu/\",\n",
        "    \"Stanford-Online\": \"https://online.stanford.edu/courses\",\n",
        "    \"Berkeley-EECS\": \"https://eecs.berkeley.edu/\",\n",
        "    \"Berkeley-BAIR\": \"https://bair.berkeley.edu/blog/\",\n",
        "    \"CMU-CS\": \"https://www.cs.cmu.edu/\",\n",
        "    \"CMU-ML\": \"https://www.ml.cmu.edu/research/index.html\"\n",
        "}\n",
        "\n",
        "PAGES_PER_URL = 300\n",
        "OUTPUT_FILE = \"usa_edu_corpus_cleaned.txt\"\n",
        "CRAWLED_URLS_FILE = \"crawled_urls.txt\"\n",
        "\n",
        "BLOCK_EXTENSIONS = [\".mp4\", \".pdf\", \".zip\", \".jpg\", \".png\", \".ppt\", \".doc\", \".exe\"]\n",
        "\n",
        "#UTILITY FUNCTIONS\n",
        "\n",
        "def is_valid_url(url):\n",
        "    return not any(url.lower().endswith(ext) for ext in BLOCK_EXTENSIONS)\n",
        "\n",
        "def get_all_links(page_url, base_domain):\n",
        "    \"\"\"Extract all internal links from a page.\"\"\"\n",
        "    try:\n",
        "        response = requests.get(page_url, timeout=10)\n",
        "        soup = BeautifulSoup(response.text, \"html.parser\")\n",
        "        links = set()\n",
        "        for tag in soup.find_all(\"a\", href=True):\n",
        "            href = tag[\"href\"]\n",
        "            if href.startswith(\"/\"):\n",
        "                href = base_domain + href\n",
        "            if base_domain in href and href.startswith(\"http\") and is_valid_url(href):\n",
        "                links.add(href.split(\"#\")[0])\n",
        "        return list(links)\n",
        "    except Exception as e:\n",
        "        print(f\"[Error] Failed to get links from {page_url}: {e}\")\n",
        "        return []\n",
        "\n",
        "def extract_clean_text(url):\n",
        "    \"\"\"Use trafilatura to extract clean main content from a page.\"\"\"\n",
        "    try:\n",
        "        downloaded = trafilatura.fetch_url(url)\n",
        "        if downloaded:\n",
        "            return trafilatura.extract(downloaded)\n",
        "        else:\n",
        "            return None\n",
        "    except Exception as e:\n",
        "        print(f\"[Error] Trafilatura failed for {url}: {e}\")\n",
        "        return None\n",
        "\n",
        "#MAIN CRAWLER\n",
        "\n",
        "def crawl_from_seed(name, seed_url, limit, out_f, log_f):\n",
        "    seen = set()\n",
        "    count = 0\n",
        "    base_domain = seed_url.split(\"/\")[0] + \"//\" + seed_url.split(\"/\")[2]\n",
        "    pages = [seed_url]\n",
        "\n",
        "    print(f\"\\n====== Crawling {name} ======\")\n",
        "    for url in pages:\n",
        "        if url in seen or count >= limit:\n",
        "            continue\n",
        "        seen.add(url)\n",
        "        print(f\"[{name} {count+1}] {url}\")\n",
        "        text = extract_clean_text(url)\n",
        "        if text:\n",
        "            paragraphs = [p.strip() for p in text.split(\"\\n\") if len(p.strip()) > 40]\n",
        "            for p in paragraphs:\n",
        "                out_f.write(p + \"\\n\")\n",
        "            log_f.write(url + \"\\n\")\n",
        "            count += 1\n",
        "        time.sleep(1)\n",
        "        new_links = get_all_links(url, base_domain)\n",
        "        pages.extend([link for link in new_links if link not in seen])\n",
        "        if count >= limit:\n",
        "            break\n",
        "\n",
        "    print(f\"{name} done. {count} pages scraped.\\n\")\n",
        "\n",
        "def crawl_all(university_urls, pages_per_url, output_file, crawled_log):\n",
        "    with open(output_file, \"w\", encoding=\"utf-8\") as out_f, open(crawled_log, \"w\", encoding=\"utf-8\") as log_f:\n",
        "        for name, url in university_urls.items():\n",
        "            crawl_from_seed(name, url, pages_per_url, out_f, log_f)\n",
        "\n",
        "#RUN SCRIPT\n",
        "\n",
        "crawl_all(UNIVERSITY_URLS, PAGES_PER_URL, OUTPUT_FILE, CRAWLED_URLS_FILE)\n"
      ],
      "metadata": {
        "colab": {
          "base_uri": "https://localhost:8080/"
        },
        "id": "EH0RF8lOWtXL",
        "outputId": "ff3a9569-6638-4310-c3d7-ee757ad0151a"
      },
      "execution_count": null,
      "outputs": [
        {
          "output_type": "stream",
          "name": "stdout",
          "text": [
            "\u001b[?25l   \u001b[90m━━━━━━━━━━━━━━━━━━━━━━━━━━━━━━━━━━━━━━━━\u001b[0m \u001b[32m0.0/132.6 kB\u001b[0m \u001b[31m?\u001b[0m eta \u001b[36m-:--:--\u001b[0m\r\u001b[2K   \u001b[90m━━━━━━━━━━━━━━━━━━━━━━━━━━━━━━━━━━━━━━━━\u001b[0m \u001b[32m132.6/132.6 kB\u001b[0m \u001b[31m4.4 MB/s\u001b[0m eta \u001b[36m0:00:00\u001b[0m\n",
            "\u001b[2K   \u001b[90m━━━━━━━━━━━━━━━━━━━━━━━━━━━━━━━━━━━━━━━━\u001b[0m \u001b[32m837.9/837.9 kB\u001b[0m \u001b[31m20.3 MB/s\u001b[0m eta \u001b[36m0:00:00\u001b[0m\n",
            "\u001b[2K   \u001b[90m━━━━━━━━━━━━━━━━━━━━━━━━━━━━━━━━━━━━━━━━\u001b[0m \u001b[32m295.7/295.7 kB\u001b[0m \u001b[31m16.6 MB/s\u001b[0m eta \u001b[36m0:00:00\u001b[0m\n",
            "\u001b[2K   \u001b[90m━━━━━━━━━━━━━━━━━━━━━━━━━━━━━━━━━━━━━━━━\u001b[0m \u001b[32m263.8/263.8 kB\u001b[0m \u001b[31m16.0 MB/s\u001b[0m eta \u001b[36m0:00:00\u001b[0m\n",
            "\u001b[?25h\n",
            "====== Crawling MIT-OCW ======\n",
            "[MIT-OCW 1] https://ocw.mit.edu/courses/\n",
            "[MIT-OCW 2] https://ocw.mit.edu/about\n",
            "[MIT-OCW 3] https://ocw.mit.edu/\n",
            "[MIT-OCW 4] https://ocw.mit.edu/contact\n",
            "[MIT-OCW 5] https://ocw.mit.edu/collections/mit-open-learning-library/\n",
            "[MIT-OCW 6] https://ocw.mit.edu/search/?f=Online%20Textbook&s=-runs.best_start_date\n",
            "[MIT-OCW 7] https://ocw.mit.edu/search/?f=Instructor%20Insights&s=-runs.best_start_date\n",
            "[MIT-OCW 8] https://ocw.mit.edu/pages/privacy-and-terms-of-use/\n",
            "[MIT-OCW 9] https://ocw.mit.edu/search/\n",
            "[MIT-OCW 10] https://ocw.mit.edu/educator\n",
            "[MIT-OCW 11] https://ocw.mit.edu/search/?t=Linear+Algebra\n",
            "[MIT-OCW 12] https://ocw.mit.edu/search/?t=Leadership\n",
            "[MIT-OCW 13] https://ocw.mit.edu/search/?l=Non-Credit\n",
            "[MIT-OCW 14] https://ocw.mit.edu/search/?t=Fiction\n",
            "[MIT-OCW 15] https://ocw.mit.edu/courses/21w-758-genre-fiction-workshop-fantasy-fall-2016/\n",
            "[MIT-OCW 16] https://ocw.mit.edu/courses/14.126-game-theory-spring-2024/\n",
            "[MIT-OCW 17] https://ocw.mit.edu/collections/sloan-mba-first-semester-core/\n",
            "[MIT-OCW 18] https://ocw.mit.edu/search/?t=Calculus\n",
            "[MIT-OCW 19] https://ocw.mit.edu/courses/res-21m-001-heavy-metal-101-january-iap-2025/\n",
            "[MIT-OCW 20] https://ocw.mit.edu/search/?t=Teaching+and+Education\n",
            "[MIT-OCW 21] https://ocw.mit.edu/courses/18-s096-matrix-calculus-for-machine-learning-and-beyond-january-iap-2023/\n",
            "[MIT-OCW 22] https://ocw.mit.edu/search/?t=Biomaterials\n",
            "[MIT-OCW 23] https://ocw.mit.edu/stories/michael-pilgreen/\n",
            "[MIT-OCW 24] https://ocw.mit.edu/search/?q=Andy+G.+Eskenazi\n",
            "[MIT-OCW 25] https://ocw.mit.edu/courses/6-4590-foundations-of-information-policy-fall-2024/\n",
            "[MIT-OCW 26] https://ocw.mit.edu/courses/res-16-002-how-to-cad-almost-anything-january-iap-2024/\n",
            "[MIT-OCW 27] https://ocw.mit.edu/search/?t=Creative+Writing\n",
            "[MIT-OCW 28] https://ocw.mit.edu/stories/mussie-demisse/\n",
            "[MIT-OCW 29] https://ocw.mit.edu/collections/africana-studies/\n",
            "[MIT-OCW 30] https://ocw.mit.edu/courses/10-01-ethics-for-engineers-artificial-intelligence-spring-2020/\n",
            "[MIT-OCW 31] https://ocw.mit.edu/search/?t=Fine+Arts\n",
            "[MIT-OCW 32] https://ocw.mit.edu/search/?t=Engineering\n",
            "[MIT-OCW 33] https://ocw.mit.edu/stories/sofiia-lipkevych/\n",
            "[MIT-OCW 34] https://ocw.mit.edu/search/?q=Prof.+Muhamet+Yildiz\n",
            "[MIT-OCW 35] https://ocw.mit.edu/pages/get-started\n",
            "[MIT-OCW 36] https://ocw.mit.edu/search/?q=Dr.+Lauren+Bonilla\n",
            "[MIT-OCW 37] https://ocw.mit.edu/search/?q=Prof.+Lawrence+Susskind\n",
            "[MIT-OCW 38] https://ocw.mit.edu/search/?t=Political+Science\n",
            "[MIT-OCW 39] https://ocw.mit.edu/search/?q=Daniel+Doneson\n",
            "[MIT-OCW 40] https://ocw.mit.edu/search/?q=Prof.+Bernhardt+Trout\n",
            "[MIT-OCW 41] https://ocw.mit.edu/search/?q=Min-Min+Liang\n",
            "[MIT-OCW 42] https://ocw.mit.edu/search/?t=Anthropology\n",
            "[MIT-OCW 43] https://ocw.mit.edu/stories/evelyn-laurito/\n",
            "[MIT-OCW 44] https://ocw.mit.edu/search/?t=Biological+Engineering\n",
            "[MIT-OCW 45] https://ocw.mit.edu/search/?q=Prof.+Michael+Short\n",
            "[MIT-OCW 46] https://ocw.mit.edu/collections/introductory-science-and-math/\n",
            "[MIT-OCW 47] https://ocw.mit.edu/search/?q=Prof.+Charles+Stewart\n",
            "[MIT-OCW 48] https://ocw.mit.edu/courses/21m-295-american-popular-music-fall-2014/\n",
            "[MIT-OCW 49] https://ocw.mit.edu/courses/res-18-010-a-2020-vision-of-linear-algebra-spring-2020/\n",
            "[MIT-OCW 50] https://ocw.mit.edu/courses/18-226-probabilistic-methods-in-combinatorics-fall-2022/\n",
            "[MIT-OCW 51] https://ocw.mit.edu/search/?t=Business\n",
            "[MIT-OCW 52] https://ocw.mit.edu/search/?t=Applied+Mathematics\n",
            "[MIT-OCW 53] https://ocw.mit.edu/search/?t=Literature\n",
            "[MIT-OCW 54] https://ocw.mit.edu/search/?q=Teresa+M+Neff\n",
            "[MIT-OCW 55] https://ocw.mit.edu/search/?q=Prof.+Myron+Spector\n",
            "[MIT-OCW 56] https://ocw.mit.edu/stories/sujood-eldouma/\n",
            "[MIT-OCW 57] https://ocw.mit.edu/stories/bia-adams/\n",
            "[MIT-OCW 58] https://ocw.mit.edu/stories/emmanuel-kasigazi/\n",
            "[MIT-OCW 59] https://ocw.mit.edu/search/?t=Language\n",
            "[MIT-OCW 60] https://ocw.mit.edu/search/?l=Undergraduate\n",
            "[MIT-OCW 61] https://ocw.mit.edu/courses/21g-010-introduction-to-european-and-latin-american-fiction-fall-2006/\n",
            "[MIT-OCW 62] https://ocw.mit.edu/search/?t=Humanities\n",
            "[MIT-OCW 63] https://ocw.mit.edu/search/?t=Systems+Engineering\n",
            "[MIT-OCW 64] https://ocw.mit.edu/search/?t=Computer+Science\n",
            "[MIT-OCW 65] https://ocw.mit.edu/search/?q=Prof.+Jonathan+Gruber\n",
            "[MIT-OCW 66] https://ocw.mit.edu/search/?t=Artificial+Intelligence\n",
            "[MIT-OCW 67] https://ocw.mit.edu/search/?t=Music\n",
            "[MIT-OCW 68] https://ocw.mit.edu/search/?q=Prof.+Gilbert+Strang\n",
            "[MIT-OCW 69] https://ocw.mit.edu/stories/ileri-%C3%A7al%C4%B1%C5%9Fmalar/\n",
            "[MIT-OCW 70] https://ocw.mit.edu/search/?t=Chinese\n",
            "[MIT-OCW 71] https://ocw.mit.edu/courses/16-810-engineering-design-and-rapid-prototyping-january-iap-2007/\n",
            "[MIT-OCW 72] https://ocw.mit.edu/search/?q=Prof.+Paul+Liang\n",
            "[MIT-OCW 73] https://ocw.mit.edu/search/?t=Cultural+Anthropology\n",
            "[MIT-OCW 74] https://ocw.mit.edu/courses/res-tll-008-social-and-ethical-responsibilities-of-computing-serc/\n",
            "[MIT-OCW 75] https://ocw.mit.edu/collections/environment/\n",
            "[MIT-OCW 76] https://ocw.mit.edu/search/?t=Mathematics\n",
            "[MIT-OCW 77] https://ocw.mit.edu/stories/do%C4%9Fa-k%C3%BCrk%C3%A7%C3%BCo%C4%9Flu/\n",
            "[MIT-OCW 78] https://ocw.mit.edu/search/?t=Music+History\n",
            "[MIT-OCW 79] https://ocw.mit.edu/search/?q=Shariann+Lewitt\n",
            "[MIT-OCW 80] https://ocw.mit.edu/search/?t=Economics\n",
            "[MIT-OCW 81] https://ocw.mit.edu/courses/res-11-004-facilitative-leadership-in-the-public-sector-fall-2024/\n",
            "[MIT-OCW 82] https://ocw.mit.edu/search/?q=Prof.+Christine+Walley\n",
            "[MIT-OCW 83] https://ocw.mit.edu/search/?q=Prof.+Alexander+Wolitzky\n"
          ]
        },
        {
          "output_type": "stream",
          "name": "stderr",
          "text": [
            "WARNING:urllib3.connectionpool:Retrying (Retry(total=1, connect=0, read=None, redirect=2, status=None)) after connection broken by 'RemoteDisconnected('Remote end closed connection without response')': /search/?t=Mechanical+Engineering\n"
          ]
        },
        {
          "output_type": "stream",
          "name": "stdout",
          "text": [
            "[MIT-OCW 84] https://ocw.mit.edu/search/?t=Mechanical+Engineering\n",
            "[MIT-OCW 85] https://ocw.mit.edu/collections/ocw-scholar/\n",
            "[MIT-OCW 86] https://ocw.mit.edu/search/?q=Prof.+Yufei+Zhao\n",
            "[MIT-OCW 87] https://ocw.mit.edu/courses/2-79j-biomaterials-tissue-interactions-fall-2022/\n",
            "[MIT-OCW 88] https://ocw.mit.edu/stories/ana-tri%C5%A1ovi%C4%87/\n",
            "[MIT-OCW 89] https://ocw.mit.edu/stories/\n",
            "[MIT-OCW 90] https://ocw.mit.edu/courses/2-785j-cell-matrix-mechanics-fall-2016/\n",
            "[MIT-OCW 91] https://ocw.mit.edu/search/?q=Joe+Diaz\n",
            "[MIT-OCW 92] https://ocw.mit.edu/search/?l=Graduate\n",
            "[MIT-OCW 93] https://ocw.mit.edu/search/?t=Discrete+Mathematics\n",
            "[MIT-OCW 94] https://ocw.mit.edu/courses/6-s087-foundation-models-and-generative-ai-january-iap-2024/\n",
            "[MIT-OCW 95] https://ocw.mit.edu/search/?t=Microeconomics\n",
            "[MIT-OCW 96] https://ocw.mit.edu/search/?q=Prof.+Steven+G.+Johnson\n",
            "[MIT-OCW 97] https://ocw.mit.edu/search/?t=American+Politics\n",
            "[MIT-OCW 98] https://ocw.mit.edu/courses/17-251-congress-and-the-american-political-system-i-fall-2016/\n",
            "[MIT-OCW 99] https://ocw.mit.edu/collections/entrepreneurship/\n",
            "[MIT-OCW 100] https://ocw.mit.edu/stories/bernardo-pic%C3%A3o/\n",
            "[MIT-OCW 101] https://ocw.mit.edu/search/?t=Computational+Modeling+and+Simulation\n",
            "[MIT-OCW 102] https://ocw.mit.edu/search/?t=Philosophy\n",
            "[MIT-OCW 103] https://ocw.mit.edu/stories/chansa-kabwe/\n",
            "[MIT-OCW 104] https://ocw.mit.edu/search/?q=Prof.+Daniel+Weitzner\n",
            "[MIT-OCW 105] https://ocw.mit.edu/search/?q=Prof.+Margery+Resnick\n",
            "[MIT-OCW 106] https://ocw.mit.edu/search/?q=Dr.+Ruthann+Thomas\n",
            "[MIT-OCW 107] https://ocw.mit.edu/search/?t=Environmental+Engineering\n",
            "[MIT-OCW 108] https://ocw.mit.edu/search/?t=Aerospace+Engineering\n",
            "[MIT-OCW 109] https://ocw.mit.edu/search/?t=Curriculum+and+Teaching\n",
            "[MIT-OCW 110] https://ocw.mit.edu/courses/14-01-principles-of-microeconomics-fall-2023/\n",
            "[MIT-OCW 111] https://ocw.mit.edu/courses/res-21g-108-project-based-language-learning-for-chinese-streamlined-ii-spring-2024/\n",
            "[MIT-OCW 112] https://ocw.mit.edu/search/?q=Prof.+Michael+M.J.+Fischer\n",
            "[MIT-OCW 113] https://ocw.mit.edu/collections/introductory-programming/\n",
            "[MIT-OCW 114] https://ocw.mit.edu/pages/why-give\n",
            "[MIT-OCW 115] https://ocw.mit.edu/collections/transportation/\n",
            "[MIT-OCW 116] https://ocw.mit.edu/stories/june-odongo/\n",
            "[MIT-OCW 117] https://ocw.mit.edu/courses/res-tll-010-syllabus-checklist-to-support-student-belonging-achievement-spring-2025/\n",
            "[MIT-OCW 118] https://ocw.mit.edu/courses/mas-s60-how-to-ai-almost-anything-spring-2025/\n",
            "[MIT-OCW 119] https://ocw.mit.edu/search/?t=Game+Theory\n",
            "[MIT-OCW 120] https://ocw.mit.edu/search/?q=Prof.+Ioannis+Yannas\n",
            "[MIT-OCW 121] https://ocw.mit.edu/courses/21a-s01-anthro-engineering-decarbonization-at-the-million-person-scale-fall-2023/\n",
            "[MIT-OCW 122] https://ocw.mit.edu/search/?q=Prof.+Harold+Abelson\n",
            "[MIT-OCW 123] https://ocw.mit.edu/search/?q=Prof.+Alan+Edelman\n",
            "[MIT-OCW 124] https://ocw.mit.edu/stories/martina-solano-soto/\n",
            "[MIT-OCW 125] https://ocw.mit.edu/stories/paige-dote/\n",
            "[MIT-OCW 126] https://ocw.mit.edu/courses/21a-461-what-is-capitalism-fall-2021/\n",
            "[MIT-OCW 127] https://ocw.mit.edu/search/?q=Rickard+Gabrielsson\n",
            "[MIT-OCW 128] https://ocw.mit.edu/collections/energy/\n",
            "[MIT-OCW 129] https://ocw.mit.edu/search/?q=SERC+Contributors\n",
            "[MIT-OCW 130] https://ocw.mit.edu/search/?t=Social+Science\n",
            "[MIT-OCW 131] https://ocw.mit.edu/search/?q=Prof.+Olivier+de+Weck\n",
            "[MIT-OCW 132] https://ocw.mit.edu/stories/andrea-henshall/\n"
          ]
        },
        {
          "output_type": "stream",
          "name": "stderr",
          "text": [
            "ERROR:trafilatura.downloads:not a 200 response: 403 for URL https://ocw.mit.edu/help/\n"
          ]
        },
        {
          "output_type": "stream",
          "name": "stdout",
          "text": [
            "[MIT-OCW 133] https://ocw.mit.edu/help/\n",
            "[MIT-OCW 133] https://ocw.mit.edu/search/?q=Elizabeth+Huttner-Loan\n",
            "[MIT-OCW 134] https://ocw.mit.edu/search/?q=Prof.+Justin+Reich\n",
            "[MIT-OCW 135] https://ocw.mit.edu/search/?t=Finance\n",
            "[MIT-OCW 136] https://ocw.mit.edu/courses/res-15-005-healthcare-finance-15-482x-spring-2019/\n",
            "[MIT-OCW 137] https://ocw.mit.edu/search/?q=Prof.+Silvija+Gradecak\n",
            "[MIT-OCW 138] https://ocw.mit.edu/search/?q=Prof.+Peter+Shor\n",
            "[MIT-OCW 139] https://ocw.mit.edu/courses/8-370x-quantum-information-science-i-spring-2018/\n",
            "[MIT-OCW 140] https://ocw.mit.edu/search/?t=Health+Care+Management\n",
            "[MIT-OCW 141] https://ocw.mit.edu/search/?t=Materials+Science+and+Engineering\n",
            "[MIT-OCW 142] https://ocw.mit.edu/search/?t=Algorithms+and+Data+Structures\n",
            "[MIT-OCW 143] https://ocw.mit.edu/search/?t=Educational+Technology\n",
            "[MIT-OCW 144] https://ocw.mit.edu/search/?q=Alyssa+Napier\n",
            "[MIT-OCW 145] https://ocw.mit.edu/courses/res-cms-155-design-thinking-for-leading-and-learning-spring-2019/\n",
            "[MIT-OCW 146] https://ocw.mit.edu/search/?q=Prof.+Isaac+Chuang\n",
            "[MIT-OCW 147] https://ocw.mit.edu/search/?t=Education+Policy\n",
            "[MIT-OCW 148] https://ocw.mit.edu/courses/3-012sx-structure-of-materials-spring-2019/\n",
            "[MIT-OCW 149] https://ocw.mit.edu/course-lists/open-learning-library/\n",
            "[MIT-OCW 150] https://ocw.mit.edu/search/?q=Prof.+Andrew+Lo\n",
            "[MIT-OCW 151] https://ocw.mit.edu/terms/\n",
            "[MIT-OCW 152] https://ocw.mit.edu/newsletter/\n",
            "[MIT-OCW 153] https://ocw.mit.edu/contact/\n",
            "[MIT-OCW 154] https://ocw.mit.edu/search/?f=Online%20Textbook\n",
            "[MIT-OCW 155] https://ocw.mit.edu/search/?f=Instructor%20Insights&s=-runs.best_start_date&type=course\n",
            "[MIT-OCW 156] https://ocw.mit.edu/courses/21w-758-genre-fiction-workshop-fantasy-fall-2016/pages/readings/\n",
            "[MIT-OCW 157] https://ocw.mit.edu/courses/21w-758-genre-fiction-workshop-fantasy-fall-2016/pages/lecture-notes/session-6\n",
            "[MIT-OCW 158] https://ocw.mit.edu/courses/21w-758-genre-fiction-workshop-fantasy-fall-2016/pages/lecture-notes/session-10\n",
            "[MIT-OCW 159] https://ocw.mit.edu/courses/21w-758-genre-fiction-workshop-fantasy-fall-2016/pages/lecture-notes/\n",
            "[MIT-OCW 160] https://ocw.mit.edu/courses/21w-758-genre-fiction-workshop-fantasy-fall-2016/pages/syllabus\n",
            "[MIT-OCW 161] https://ocw.mit.edu/courses/21w-758-genre-fiction-workshop-fantasy-fall-2016/pages/lecture-notes/session-1\n",
            "[MIT-OCW 162] https://ocw.mit.edu/courses/21w-758-genre-fiction-workshop-fantasy-fall-2016/pages/lecture-notes/session-9\n",
            "[MIT-OCW 163] https://ocw.mit.edu/courses/21w-758-genre-fiction-workshop-fantasy-fall-2016/pages/lecture-notes/session-4\n",
            "[MIT-OCW 164] https://ocw.mit.edu/courses/21w-758-genre-fiction-workshop-fantasy-fall-2016/pages/lecture-notes/session-3\n",
            "[MIT-OCW 165] https://ocw.mit.edu/search/?d=Comparative+Media+Studies%2FWriting\n",
            "[MIT-OCW 166] https://ocw.mit.edu/courses/21w-758-genre-fiction-workshop-fantasy-fall-2016/download\n",
            "[MIT-OCW 167] https://ocw.mit.edu/courses/21w-758-genre-fiction-workshop-fantasy-fall-2016/pages/calendar\n",
            "[MIT-OCW 168] https://ocw.mit.edu/courses/21w-758-genre-fiction-workshop-fantasy-fall-2016/pages/lecture-notes/session-2\n",
            "[MIT-OCW 169] https://ocw.mit.edu/courses/21w-758-genre-fiction-workshop-fantasy-fall-2016/pages/assignments\n",
            "[MIT-OCW 170] https://ocw.mit.edu/courses/21w-758-genre-fiction-workshop-fantasy-fall-2016/pages/lecture-notes/session-8\n",
            "[MIT-OCW 171] https://ocw.mit.edu/courses/21w-758-genre-fiction-workshop-fantasy-fall-2016/pages/readings/reading-list\n",
            "[MIT-OCW 172] https://ocw.mit.edu/courses/14.126-game-theory-spring-2024/pages/lecture-notes/\n",
            "[MIT-OCW 173] https://ocw.mit.edu/search/?d=Economics\n",
            "[MIT-OCW 174] https://ocw.mit.edu/courses/14.126-game-theory-spring-2024/pages/readings/\n",
            "[MIT-OCW 175] https://ocw.mit.edu/courses/14.126-game-theory-spring-2024/download\n",
            "[MIT-OCW 176] https://ocw.mit.edu/courses/14.126-game-theory-spring-2024/pages/syllabus/\n",
            "[MIT-OCW 177] https://ocw.mit.edu/course-lists/first-semester-mba-core-required-courses/\n",
            "[MIT-OCW 178] https://ocw.mit.edu/search/?d=Sloan%20School%20of%20Management&q=leadership&s=-runs.best_start_date&t=Leadership\n",
            "[MIT-OCW 179] https://ocw.mit.edu/course-lists/first-semester-mba-core-elective-courses/\n",
            "[MIT-OCW 180] https://ocw.mit.edu/search/?d=Music+and+Theater+Arts\n",
            "[MIT-OCW 181] https://ocw.mit.edu/search/?t=Music+Performance\n",
            "[MIT-OCW 182] https://ocw.mit.edu/courses/18-s096-matrix-calculus-for-machine-learning-and-beyond-january-iap-2023/pages/lecture-notes/\n",
            "[MIT-OCW 183] https://ocw.mit.edu/courses/18-s096-matrix-calculus-for-machine-learning-and-beyond-january-iap-2023/pages/instructor-insights/\n",
            "[MIT-OCW 184] https://ocw.mit.edu/courses/18-02sc-multivariable-calculus-fall-2010/\n",
            "[MIT-OCW 185] https://ocw.mit.edu/courses/18-s096-matrix-calculus-for-machine-learning-and-beyond-january-iap-2023/pages/syllabus/\n",
            "[MIT-OCW 186] https://ocw.mit.edu/courses/18-s096-matrix-calculus-for-machine-learning-and-beyond-january-iap-2023/pages/problem-sets/\n",
            "[MIT-OCW 187] https://ocw.mit.edu/courses/18-s096-matrix-calculus-for-machine-learning-and-beyond-january-iap-2023/video_galleries/lecture-videos/\n",
            "[MIT-OCW 188] https://ocw.mit.edu/courses/18-s096-matrix-calculus-for-machine-learning-and-beyond-january-iap-2023/download\n",
            "[MIT-OCW 189] https://ocw.mit.edu/courses/18-01sc-single-variable-calculus-fall-2010/\n",
            "[MIT-OCW 190] https://ocw.mit.edu/search/?d=Mathematics\n",
            "[MIT-OCW 191] https://ocw.mit.edu/courses/6-00-introduction-to-computer-science-and-programming-fall-2008/\n",
            "[MIT-OCW 192] https://ocw.mit.edu/stories\n",
            "[MIT-OCW 193] https://ocw.mit.edu/courses/15-s08-fintech-shaping-the-financial-world-spring-2020/\n",
            "[MIT-OCW 194] https://ocw.mit.edu/courses/6-006-introduction-to-algorithms-spring-2020/\n",
            "[MIT-OCW 195] https://ocw.mit.edu/courses/15-401-finance-theory-i-fall-2008/\n",
            "[MIT-OCW 196] https://ocw.mit.edu/courses/6-042j-mathematics-for-computer-science-spring-2015/\n",
            "[MIT-OCW 197] https://ocw.mit.edu/courses/15-s12-blockchain-and-money-fall-2018/\n",
            "[MIT-OCW 198] https://ocw.mit.edu/search/?t=Public+Administration\n",
            "[MIT-OCW 199] https://ocw.mit.edu/search/?d=Electrical+Engineering+and+Computer+Science\n",
            "[MIT-OCW 200] https://ocw.mit.edu/search/?d=Science%2C+Technology%2C+and+Society\n",
            "[MIT-OCW 201] https://ocw.mit.edu/search/?t=Science+and+Technology+Policy\n",
            "[MIT-OCW 202] https://ocw.mit.edu/courses/res-16-002-how-to-cad-almost-anything-january-iap-2024/pages/learning-to-use-cad-software/\n",
            "[MIT-OCW 203] https://ocw.mit.edu/courses/res-16-002-how-to-cad-almost-anything-january-iap-2024/pages/instructor-insights/\n",
            "[MIT-OCW 204] https://ocw.mit.edu/courses/res-16-002-how-to-cad-almost-anything-january-iap-2024/pages/free-alternatives-to-proprietary-cad-software/\n",
            "[MIT-OCW 205] https://ocw.mit.edu/search/?d=Aeronautics+and+Astronautics\n",
            "[MIT-OCW 206] https://ocw.mit.edu/courses/res-16-002-how-to-cad-almost-anything-january-iap-2024/pages/students-reasons-for-enrolling-in-the-workshop/\n",
            "[MIT-OCW 207] https://ocw.mit.edu/courses/res-16-002-how-to-cad-almost-anything-january-iap-2024/pages/reverse-engineering-as-a-design-technique/\n",
            "[MIT-OCW 208] https://ocw.mit.edu/courses/res-16-002-how-to-cad-almost-anything-january-iap-2024/pages/parting-thoughts/\n",
            "[MIT-OCW 209] https://ocw.mit.edu/search/?t=History\n",
            "[MIT-OCW 210] https://ocw.mit.edu/search/?t=Linguistics\n",
            "[MIT-OCW 211] https://ocw.mit.edu/course-lists/africana-contextualized-stem/\n",
            "[MIT-OCW 212] https://ocw.mit.edu/courses/24-912-black-matters-introduction-to-black-studies-spring-2017/\n",
            "[MIT-OCW 213] https://ocw.mit.edu/search/?t=Political+Philosophy\n",
            "[MIT-OCW 214] https://ocw.mit.edu/course-lists/africana-studies/\n",
            "[MIT-OCW 215] https://ocw.mit.edu/courses/21h-165-modern-african-history-spring-2019/\n",
            "[MIT-OCW 216] https://ocw.mit.edu/courses/21g-025-africa-and-the-politics-of-knowledge-spring-2019/\n",
            "[MIT-OCW 217] https://ocw.mit.edu/search/?q=Prof.+Justin+Steil\n",
            "[MIT-OCW 218] https://ocw.mit.edu/courses/21m-410-vocal-repertoire-and-performance-african-american-composers-spring-2005/\n",
            "[MIT-OCW 219] https://ocw.mit.edu/search/?q=Ms.+Pamela+Wood\n",
            "[MIT-OCW 220] https://ocw.mit.edu/search/?t=Visual+Arts\n",
            "[MIT-OCW 221] https://ocw.mit.edu/courses/wgs-s10-black-feminist-health-science-studies-spring-2021/\n",
            "[MIT-OCW 222] https://ocw.mit.edu/search/?t=Social+Medicine\n",
            "[MIT-OCW 223] https://ocw.mit.edu/course-lists/inclusive-teaching-and-education/\n",
            "[MIT-OCW 224] https://ocw.mit.edu/search/?t=African+History\n",
            "[MIT-OCW 225] https://ocw.mit.edu/search/?q=Prof.+Michel+DeGraff\n",
            "[MIT-OCW 226] https://ocw.mit.edu/search/?q=Prof.+Kenda+Mutongi\n",
            "[MIT-OCW 227] https://ocw.mit.edu/courses/24-908-creole-languages-and-caribbean-identities-spring-2017/\n",
            "[MIT-OCW 228] https://ocw.mit.edu/search/?t=Health+and+Medicine\n",
            "[MIT-OCW 229] https://ocw.mit.edu/search/?t=Society\n",
            "[MIT-OCW 230] https://ocw.mit.edu/course-lists/contexts-of-race-and-social-justice/\n",
            "[MIT-OCW 231] https://ocw.mit.edu/search/?q=Prof.+M.+Amah+Edoh\n",
            "[MIT-OCW 232] https://ocw.mit.edu/courses/21g-026-global-africa-creative-cultures-spring-2018/\n",
            "[MIT-OCW 233] https://ocw.mit.edu/courses/11-368-environmental-justice-law-and-policy-fall-2019/\n",
            "[MIT-OCW 234] https://ocw.mit.edu/search/?t=Film+and+Video\n",
            "[MIT-OCW 235] https://ocw.mit.edu/search/?q=Dr.+Moya+Bailey\n",
            "[MIT-OCW 236] https://ocw.mit.edu/search/?q=Enjoli+Hall\n",
            "[MIT-OCW 237] https://ocw.mit.edu/search/?t=Ethics\n",
            "[MIT-OCW 238] https://ocw.mit.edu/search/?d=Civil+and+Environmental+Engineering\n",
            "[MIT-OCW 239] https://ocw.mit.edu/search/?d=Mechanical+Engineering\n",
            "[MIT-OCW 240] https://ocw.mit.edu/search/?d=Chemical+Engineering\n",
            "[MIT-OCW 241] https://ocw.mit.edu/search/?d=Nuclear+Science+and+Engineering\n",
            "[MIT-OCW 242] https://ocw.mit.edu/courses/10-01-ethics-for-engineers-artificial-intelligence-spring-2020/pages/syllabus\n",
            "[MIT-OCW 243] https://ocw.mit.edu/courses/10-01-ethics-for-engineers-artificial-intelligence-spring-2020/download\n",
            "[MIT-OCW 244] https://ocw.mit.edu/courses/10-01-ethics-for-engineers-artificial-intelligence-spring-2020/pages/readings-and-viewings\n",
            "[MIT-OCW 245] https://ocw.mit.edu/courses/10-01-ethics-for-engineers-artificial-intelligence-spring-2020/pages/assignments\n",
            "[MIT-OCW 246] https://ocw.mit.edu/courses/10-01-ethics-for-engineers-artificial-intelligence-spring-2020/pages/calendar\n",
            "[MIT-OCW 247] https://ocw.mit.edu/courses/res-tll-005-how-to-speak-january-iap-2018/pages/how-to-speak/\n",
            "[MIT-OCW 248] https://ocw.mit.edu/courses/18-06-linear-algebra-spring-2010/\n",
            "[MIT-OCW 249] https://ocw.mit.edu/courses/5-60-thermodynamics-kinetics-spring-2008/\n",
            "[MIT-OCW 250] https://ocw.mit.edu/courses/2-003sc-engineering-dynamics-fall-2011/resources/lecture-videos/\n",
            "[MIT-OCW 251] https://ocw.mit.edu/courses/6-0001-introduction-to-computer-science-and-programming-in-python-fall-2016/\n",
            "[MIT-OCW 252] https://ocw.mit.edu/courses/9-13-the-human-brain-spring-2019/\n",
            "[MIT-OCW 253] https://ocw.mit.edu/pages/privacy-and-terms-of-use/?__hstc=215508872.8b0d6a564d954ec36735e5f3e5a4d717.1644420099739.1648738214719.1648749631544.13&__hssc=215508872.18.1648749631544&__hsfp=689994695\n",
            "[MIT-OCW 254] https://ocw.mit.edu/search/?f=Lecture%20Videos&s=-runs.best_start_date\n",
            "[MIT-OCW 255] https://ocw.mit.edu/educator/\n",
            "[MIT-OCW 256] https://ocw.mit.edu/course-lists/most-popular-courses/\n",
            "[MIT-OCW 257] https://ocw.mit.edu/course-lists/scholar-courses/\n",
            "[MIT-OCW 258] https://ocw.mit.edu/courses/8-02-physics-ii-electricity-and-magnetism-spring-2019/\n",
            "[MIT-OCW 259] https://ocw.mit.edu/courses/7-01sc-fundamentals-of-biology-fall-2011/\n",
            "[MIT-OCW 260] https://ocw.mit.edu/search/?d=Biology&q=7.01&s=department_course_numbers.sort_coursenum\n",
            "[MIT-OCW 261] https://ocw.mit.edu/courses/3-091-introduction-to-solid-state-chemistry-fall-2018/\n",
            "[MIT-OCW 262] https://ocw.mit.edu/search/?d=Mathematics&q=18.02\n",
            "[MIT-OCW 263] https://ocw.mit.edu/courses/res-7-001-pre-7-01-getting-up-to-speed-in-biology-summer-2019/\n",
            "[MIT-OCW 264] https://ocw.mit.edu/resources/chemistry-gir/\n",
            "[MIT-OCW 265] https://ocw.mit.edu/courses/5-112-principles-of-chemical-science-fall-2005/\n",
            "[MIT-OCW 266] https://ocw.mit.edu/courses/3-091sc-introduction-to-solid-state-chemistry-fall-2010/\n",
            "[MIT-OCW 267] https://ocw.mit.edu/search/?d=Physics&q=8.01\n",
            "[MIT-OCW 268] https://ocw.mit.edu/resources/a-glimpse-into-the-biology-gir/\n",
            "[MIT-OCW 269] https://ocw.mit.edu/search/?d=Physics&q=8.02\n",
            "[MIT-OCW 270] https://ocw.mit.edu/courses/5-111sc-principles-of-chemical-science-fall-2014/\n",
            "[MIT-OCW 271] https://ocw.mit.edu/resources/mit-department-of-mathematics-and-the-general-institute-requirement/\n",
            "[MIT-OCW 272] https://ocw.mit.edu/search/?d=Mathematics&q=18.01\n",
            "[MIT-OCW 273] https://ocw.mit.edu/resources/physics-8-01-8-02/\n",
            "[MIT-OCW 274] https://ocw.mit.edu/courses/8-01sc-classical-mechanics-fall-2016/\n",
            "[MIT-OCW 275] https://ocw.mit.edu/courses/5-111-principles-of-chemical-science-fall-2008/\n",
            "[MIT-OCW 276] https://ocw.mit.edu/courses/21m-295-american-popular-music-fall-2014/pages/reading-and-listening\n",
            "[MIT-OCW 277] https://ocw.mit.edu/courses/21m-295-american-popular-music-fall-2014/download\n",
            "[MIT-OCW 278] https://ocw.mit.edu/courses/21m-295-american-popular-music-fall-2014/pages/assignments\n",
            "[MIT-OCW 279] https://ocw.mit.edu/courses/21m-295-american-popular-music-fall-2014/pages/study-materials\n",
            "[MIT-OCW 280] https://ocw.mit.edu/courses/21m-295-american-popular-music-fall-2014/pages/syllabus\n",
            "[MIT-OCW 281] https://ocw.mit.edu/search/?t=Music+Theory\n",
            "[MIT-OCW 282] https://ocw.mit.edu/courses/21m-295-american-popular-music-fall-2014/pages/instructor-insights\n",
            "[MIT-OCW 283] https://ocw.mit.edu/courses/res-18-010-a-2020-vision-of-linear-algebra-spring-2020/video_galleries/videos/\n",
            "[MIT-OCW 284] https://ocw.mit.edu/courses/res-18-010-a-2020-vision-of-linear-algebra-spring-2020/video_galleries/2024-videos/\n",
            "[MIT-OCW 285] https://ocw.mit.edu/courses/res-18-010-a-2020-vision-of-linear-algebra-spring-2020/pages/2023-video/\n",
            "[MIT-OCW 286] https://ocw.mit.edu/courses/res-18-010-a-2020-vision-of-linear-algebra-spring-2020/pages/relatedresources/\n",
            "[MIT-OCW 287] https://ocw.mit.edu/courses/res-18-010-a-2020-vision-of-linear-algebra-spring-2020/pages/2021-video/\n",
            "[MIT-OCW 288] https://ocw.mit.edu/courses/res-18-010-a-2020-vision-of-linear-algebra-spring-2020/download\n",
            "[MIT-OCW 289] https://ocw.mit.edu/courses/res-18-010-a-2020-vision-of-linear-algebra-spring-2020/pages/about-the-videos/\n",
            "[MIT-OCW 290] https://ocw.mit.edu/courses/18-226-probabilistic-methods-in-combinatorics-fall-2022/video_galleries/lecture-videos/\n",
            "[MIT-OCW 291] https://ocw.mit.edu/courses/18-226-probabilistic-methods-in-combinatorics-fall-2022/pages/syllabus/\n",
            "[MIT-OCW 292] https://ocw.mit.edu/courses/18-226-probabilistic-methods-in-combinatorics-fall-2022/pages/instructor-insights/\n",
            "[MIT-OCW 293] https://ocw.mit.edu/courses/18-226-probabilistic-methods-in-combinatorics-fall-2022/lists/lecture-notes/\n",
            "[MIT-OCW 294] https://ocw.mit.edu/courses/18-226-probabilistic-methods-in-combinatorics-fall-2022/download\n",
            "[MIT-OCW 295] https://ocw.mit.edu/courses/18-226-probabilistic-methods-in-combinatorics-fall-2022/pages/calendar/\n",
            "[MIT-OCW 296] https://ocw.mit.edu/courses/18-226-probabilistic-methods-in-combinatorics-fall-2022/pages/problem-sets/\n",
            "[MIT-OCW 297] https://ocw.mit.edu/search/?t=Probability+and+Statistics\n",
            "[MIT-OCW 298] https://ocw.mit.edu/courses/8-04-quantum-physics-i-spring-2013/\n",
            "[MIT-OCW 299] https://ocw.mit.edu/courses/9-40-introduction-to-neural-computation-spring-2018/\n",
            "[MIT-OCW 300] https://ocw.mit.edu/courses/7-016-introductory-biology-fall-2018/\n",
            "✅ MIT-OCW done. 300 pages scraped.\n",
            "\n",
            "\n",
            "====== Crawling MIT-AI ======\n",
            "[MIT-AI 1] https://www.eecs.mit.edu/category/news/\n",
            "✅ MIT-AI done. 1 pages scraped.\n",
            "\n",
            "\n",
            "====== Crawling Stanford-AI ======\n",
            "[Stanford-AI 1] https://ai.stanford.edu/\n",
            "[Stanford-AI 2] https://ai.stanford.edu/research-groups/\n",
            "[Stanford-AI 3] https://ai.stanford.edu/outreach/\n",
            "[Stanford-AI 4] https://ai.stanford.edu/sail\n",
            "[Stanford-AI 5] https://ai.stanford.edu/courses/\n",
            "[Stanford-AI 6] https://ai.stanford.edu/faculty\n",
            "[Stanford-AI 7] https://ai.stanford.edu/postdoctoralfellows/\n",
            "[Stanford-AI 8] https://ai.stanford.edu/about/\n",
            "[Stanford-AI 9] https://ai.stanford.edu/events/\n",
            "[Stanford-AI 10] https://ai.stanford.edu/ai-affiliates-program/\n",
            "[Stanford-AI 11] https://ai.stanford.edu/blog\n",
            "[Stanford-AI 12] https://ai.stanford.edu/faculty/\n",
            "[Stanford-AI 13] https://ai.stanford.edu/stanford-ai-courses\n",
            "[Stanford-AI 14] https://ai.stanford.edu/~latombe/\n",
            "[Stanford-AI 15] https://ai.stanford.edu/~tengyuma/\n",
            "[Stanford-AI 16] https://ai.stanford.edu/~koller/index.html\n",
            "[Stanford-AI 17] https://ai.stanford.edu/~syyeung/\n",
            "[Stanford-AI 18] https://ai.stanford.edu/?p=2537/\n",
            "[Stanford-AI 19] https://ai.stanford.edu/?p=2541\n",
            "[Stanford-AI 20] https://ai.stanford.edu/entrepreneurs/index.html\n",
            "[Stanford-AI 21] https://ai.stanford.edu/events/sail-student-activities/\n",
            "[Stanford-AI 22] https://ai.stanford.edu/blog/rl\n",
            "[Stanford-AI 23] https://ai.stanford.edu/blog/nlp\n",
            "[Stanford-AI 24] https://ai.stanford.edu/blog/vision\n",
            "[Stanford-AI 25] https://ai.stanford.edu/blog/naacl-2025/\n",
            "[Stanford-AI 26] https://ai.stanford.edu/blog/verbatim-memorization/\n",
            "[Stanford-AI 27] https://ai.stanford.edu/blog/page/2/index.html\n",
            "[Stanford-AI 28] https://ai.stanford.edu/blog/ml\n",
            "[Stanford-AI 29] https://ai.stanford.edu/blog/sail-graduates/\n",
            "[Stanford-AI 30] https://ai.stanford.edu/blog/teaser-global/\n",
            "[Stanford-AI 31] https://ai.stanford.edu/blog/minivla/\n",
            "[Stanford-AI 32] https://ai.stanford.edu/blog/mentat/\n",
            "[Stanford-AI 33] https://ai.stanford.edu/blog/about\n",
            "[Stanford-AI 34] https://ai.stanford.edu/blog/\n",
            "[Stanford-AI 35] https://ai.stanford.edu/blog/neurips-2024/\n",
            "[Stanford-AI 36] https://ai.stanford.edu/blog/iclr-2025/\n",
            "[Stanford-AI 37] https://ai.stanford.edu/blog/robotics\n",
            "[Stanford-AI 38] https://ai.stanford.edu/blog/conferences\n",
            "[Stanford-AI 39] https://ai.stanford.edu/blog/subscribe\n",
            "[Stanford-AI 40] https://ai.stanford.edu/blog/teaching/\n",
            "[Stanford-AI 41] https://ai.stanford.edu/blog/privacylens/\n",
            "[Stanford-AI 42] https://ai.stanford.edu/~gwthomas/\n",
            "[Stanford-AI 43] https://ai.stanford.edu/portfolio-view/dharmendra-modha/\n"
          ]
        },
        {
          "output_type": "stream",
          "name": "stderr",
          "text": [
            "ERROR:trafilatura.downloads:not a 200 response: 404 for URL https://ai.stanford.edu/portfolio-view/dharmendra-modha/\n"
          ]
        },
        {
          "output_type": "stream",
          "name": "stdout",
          "text": [
            "[Stanford-AI 43] https://ai.stanford.edu/portfolio-view/david-sontag/\n"
          ]
        },
        {
          "output_type": "stream",
          "name": "stderr",
          "text": [
            "ERROR:trafilatura.downloads:not a 200 response: 404 for URL https://ai.stanford.edu/portfolio-view/david-sontag/\n"
          ]
        },
        {
          "output_type": "stream",
          "name": "stdout",
          "text": [
            "[Stanford-AI 43] https://ai.stanford.edu/portfolio-view/distinguished-speaker-series-subramanian-ramamoorthy\n"
          ]
        },
        {
          "output_type": "stream",
          "name": "stderr",
          "text": [
            "ERROR:trafilatura.downloads:not a 200 response: 404 for URL https://ai.stanford.edu/portfolio-view/distinguished-speaker-series-subramanian-ramamoorthy\n"
          ]
        },
        {
          "output_type": "stream",
          "name": "stdout",
          "text": [
            "[Stanford-AI 43] https://ai.stanford.edu/portfolio-view/leslie-kaebling/\n"
          ]
        },
        {
          "output_type": "stream",
          "name": "stderr",
          "text": [
            "ERROR:trafilatura.downloads:not a 200 response: 404 for URL https://ai.stanford.edu/portfolio-view/leslie-kaebling/\n"
          ]
        },
        {
          "output_type": "stream",
          "name": "stdout",
          "text": [
            "[Stanford-AI 43] https://ai.stanford.edu/portfolio-view/distinguished-speaker-series-pietro-perona\n"
          ]
        },
        {
          "output_type": "stream",
          "name": "stderr",
          "text": [
            "ERROR:trafilatura.downloads:not a 200 response: 404 for URL https://ai.stanford.edu/portfolio-view/distinguished-speaker-series-pietro-perona\n"
          ]
        },
        {
          "output_type": "stream",
          "name": "stdout",
          "text": [
            "[Stanford-AI 43] https://ai.stanford.edu/portfolio-view/distinguished-speaker-series-michael-black/\n"
          ]
        },
        {
          "output_type": "stream",
          "name": "stderr",
          "text": [
            "ERROR:trafilatura.downloads:not a 200 response: 404 for URL https://ai.stanford.edu/portfolio-view/distinguished-speaker-series-michael-black/\n"
          ]
        },
        {
          "output_type": "stream",
          "name": "stdout",
          "text": [
            "[Stanford-AI 43] https://ai.stanford.edu/?post_type=portfolio&p=2731&preview=true\n"
          ]
        },
        {
          "output_type": "stream",
          "name": "stderr",
          "text": [
            "ERROR:trafilatura.downloads:not a 200 response: 404 for URL https://ai.stanford.edu/?post_type=portfolio&p=2731&preview=true\n"
          ]
        },
        {
          "output_type": "stream",
          "name": "stdout",
          "text": [
            "[Stanford-AI 43] https://ai.stanford.edu/portfolio-view/distinguished-speaker-series-raymond-mooney\n"
          ]
        },
        {
          "output_type": "stream",
          "name": "stderr",
          "text": [
            "ERROR:trafilatura.downloads:not a 200 response: 404 for URL https://ai.stanford.edu/portfolio-view/distinguished-speaker-series-raymond-mooney\n"
          ]
        },
        {
          "output_type": "stream",
          "name": "stdout",
          "text": [
            "[Stanford-AI 43] https://ai.stanford.edu/portfolio-view/distinguished-speaker-series-andreas-krause\n"
          ]
        },
        {
          "output_type": "stream",
          "name": "stderr",
          "text": [
            "ERROR:trafilatura.downloads:not a 200 response: 404 for URL https://ai.stanford.edu/portfolio-view/distinguished-speaker-series-andreas-krause\n"
          ]
        },
        {
          "output_type": "stream",
          "name": "stdout",
          "text": [
            "[Stanford-AI 43] https://ai.stanford.edu/portfolio-view/matt-ginsberg/\n"
          ]
        },
        {
          "output_type": "stream",
          "name": "stderr",
          "text": [
            "ERROR:trafilatura.downloads:not a 200 response: 404 for URL https://ai.stanford.edu/portfolio-view/matt-ginsberg/\n"
          ]
        },
        {
          "output_type": "stream",
          "name": "stdout",
          "text": [
            "[Stanford-AI 43] https://ai.stanford.edu/portfolio-view/distinguished-speaker-series-kevin-leyton-brown/\n"
          ]
        },
        {
          "output_type": "stream",
          "name": "stderr",
          "text": [
            "ERROR:trafilatura.downloads:not a 200 response: 404 for URL https://ai.stanford.edu/portfolio-view/distinguished-speaker-series-kevin-leyton-brown/\n"
          ]
        },
        {
          "output_type": "stream",
          "name": "stdout",
          "text": [
            "[Stanford-AI 43] https://ai.stanford.edu/portfolio-view/sham-kakade/\n"
          ]
        },
        {
          "output_type": "stream",
          "name": "stderr",
          "text": [
            "ERROR:trafilatura.downloads:not a 200 response: 404 for URL https://ai.stanford.edu/portfolio-view/sham-kakade/\n"
          ]
        },
        {
          "output_type": "stream",
          "name": "stdout",
          "text": [
            "[Stanford-AI 43] https://ai.stanford.edu/portfolio-view/distinguished-speaker-series-craig-boutilier\n"
          ]
        },
        {
          "output_type": "stream",
          "name": "stderr",
          "text": [
            "ERROR:trafilatura.downloads:not a 200 response: 404 for URL https://ai.stanford.edu/portfolio-view/distinguished-speaker-series-craig-boutilier\n"
          ]
        },
        {
          "output_type": "stream",
          "name": "stdout",
          "text": [
            "[Stanford-AI 43] https://ai.stanford.edu/portfolio-view/distinguished-speaker-series-pedro-domingos\n"
          ]
        },
        {
          "output_type": "stream",
          "name": "stderr",
          "text": [
            "ERROR:trafilatura.downloads:not a 200 response: 404 for URL https://ai.stanford.edu/portfolio-view/distinguished-speaker-series-pedro-domingos\n"
          ]
        },
        {
          "output_type": "stream",
          "name": "stdout",
          "text": [
            "[Stanford-AI 43] https://ai.stanford.edu/portfolio-view/kevin-knight/\n"
          ]
        },
        {
          "output_type": "stream",
          "name": "stderr",
          "text": [
            "ERROR:trafilatura.downloads:not a 200 response: 404 for URL https://ai.stanford.edu/portfolio-view/kevin-knight/\n"
          ]
        },
        {
          "output_type": "stream",
          "name": "stdout",
          "text": [
            "[Stanford-AI 43] https://ai.stanford.edu/portfolio-view/distinguished-speaker-series-regina-barzilay/\n"
          ]
        },
        {
          "output_type": "stream",
          "name": "stderr",
          "text": [
            "ERROR:trafilatura.downloads:not a 200 response: 404 for URL https://ai.stanford.edu/portfolio-view/distinguished-speaker-series-regina-barzilay/\n"
          ]
        },
        {
          "output_type": "stream",
          "name": "stdout",
          "text": [
            "[Stanford-AI 43] https://ai.stanford.edu/ai-salon-event-archive/\n",
            "[Stanford-AI 44] https://ai.stanford.edu/events/ai-salon/\n",
            "[Stanford-AI 45] https://ai.stanford.edu/blog/rl/page/2/index.html\n",
            "[Stanford-AI 46] https://ai.stanford.edu/blog/self-improving-robots/\n",
            "[Stanford-AI 47] https://ai.stanford.edu/blog/meta-exploration/\n",
            "[Stanford-AI 48] https://ai.stanford.edu/blog/igibson/\n",
            "[Stanford-AI 49] https://ai.stanford.edu/blog/selfsupervised-multimodal/\n",
            "[Stanford-AI 50] https://ai.stanford.edu/blog/cavin/\n",
            "[Stanford-AI 51] https://ai.stanford.edu/blog/lili/\n",
            "[Stanford-AI 52] https://ai.stanford.edu/blog/robomimic/\n",
            "[Stanford-AI 53] https://ai.stanford.edu/blog/robonet/\n",
            "[Stanford-AI 54] https://ai.stanford.edu/blog/gti/\n",
            "[Stanford-AI 55] https://ai.stanford.edu/blog/black-box-safety-validation/\n",
            "[Stanford-AI 56] https://ai.stanford.edu/blog/acl-2022/\n",
            "[Stanford-AI 57] https://ai.stanford.edu/blog/emnlp-2024/\n",
            "[Stanford-AI 58] https://ai.stanford.edu/blog/acl-2023/\n",
            "[Stanford-AI 59] https://ai.stanford.edu/blog/nlp/page/2/index.html\n",
            "[Stanford-AI 60] https://ai.stanford.edu/blog/linkbert/\n",
            "[Stanford-AI 61] https://ai.stanford.edu/blog/understanding-incontext/\n",
            "[Stanford-AI 62] https://ai.stanford.edu/blog/eccv-2020/\n",
            "[Stanford-AI 63] https://ai.stanford.edu/blog/generate-human-object/\n",
            "[Stanford-AI 64] https://ai.stanford.edu/blog/cvpr-2020/\n",
            "[Stanford-AI 65] https://ai.stanford.edu/blog/measuring-hand-hygiene-in-hospitals/\n",
            "[Stanford-AI 66] https://ai.stanford.edu/blog/introduction-to-knowledge-graphs/\n",
            "[Stanford-AI 67] https://ai.stanford.edu/~optas/\n",
            "[Stanford-AI 68] https://ai.stanford.edu/blog/tags\n",
            "[Stanford-AI 69] https://ai.stanford.edu/blog/index.html\n",
            "[Stanford-AI 70] https://ai.stanford.edu/blog/neruips-2023/\n",
            "[Stanford-AI 71] https://ai.stanford.edu/blog/crossing-linguistic-horizon/\n",
            "[Stanford-AI 72] https://ai.stanford.edu/blog/iclr-2024/\n",
            "[Stanford-AI 73] https://ai.stanford.edu/blog/rss-2023/\n",
            "[Stanford-AI 74] https://ai.stanford.edu/blog/codebook-features/\n",
            "[Stanford-AI 75] https://ai.stanford.edu/blog/page/3/index.html\n",
            "[Stanford-AI 76] https://ai.stanford.edu/~sttruong\n",
            "[Stanford-AI 77] https://ai.stanford.edu/blog/clover/\n",
            "[Stanford-AI 78] https://ai.stanford.edu/~sttruong/villm/\n",
            "[Stanford-AI 79] https://ai.stanford.edu/blog/icml-2023/\n",
            "[Stanford-AI 80] https://ai.stanford.edu/blog/domino/\n",
            "[Stanford-AI 81] https://ai.stanford.edu/blog/discrimination_in_ML_and_law/\n",
            "[Stanford-AI 82] https://ai.stanford.edu/blog/understanding-contrastive-learning/\n",
            "[Stanford-AI 83] https://ai.stanford.edu/blog/learning-to-imitate/\n",
            "[Stanford-AI 84] https://ai.stanford.edu/blog/longer-sequences-next-leap-ai/\n",
            "[Stanford-AI 85] https://ai.stanford.edu/blog/ml/page/2/index.html\n",
            "[Stanford-AI 86] https://ai.stanford.edu/~wxliang/\n",
            "[Stanford-AI 87] https://ai.stanford.edu/blog/reward-isnt-free/\n",
            "[Stanford-AI 88] https://ai.stanford.edu/blog/cvpr-2023/\n",
            "[Stanford-AI 89] https://ai.stanford.edu/blog/robotics/page/2/index.html\n",
            "[Stanford-AI 90] https://ai.stanford.edu/blog/conferences/page/2/index.html\n",
            "[Stanford-AI 91] https://ai.stanford.edu/blog/ai-and-the-future-of-work/\n",
            "[Stanford-AI 92] https://ai.stanford.edu/blog/minimax-optimal-pac/\n",
            "[Stanford-AI 93] https://ai.stanford.edu/blog/reliable-ai/\n",
            "[Stanford-AI 94] https://ai.stanford.edu/blog/roboturk/\n",
            "[Stanford-AI 95] https://ai.stanford.edu/blog/rl/index.html\n",
            "[Stanford-AI 96] https://ai.stanford.edu/blog/acteach/\n",
            "[Stanford-AI 97] https://ai.stanford.edu/~cbfinn/\n",
            "[Stanford-AI 98] https://ai.stanford.edu/blog/neurips-2020/\n",
            "[Stanford-AI 99] https://ai.stanford.edu/blog/lr-identify/\n",
            "[Stanford-AI 100] https://ai.stanford.edu/blog/ntp-ntg/\n",
            "[Stanford-AI 101] https://ai.stanford.edu/blog/finding-crosslingual-syntax/\n",
            "[Stanford-AI 102] https://ai.stanford.edu/blog/data-augmentation/\n",
            "[Stanford-AI 103] https://ai.stanford.edu/blog/contextual/\n",
            "[Stanford-AI 104] https://ai.stanford.edu/blog/emnlp-2020/\n",
            "[Stanford-AI 105] https://ai.stanford.edu/blog/bootleg/\n",
            "[Stanford-AI 106] https://ai.stanford.edu/blog/covid-policy-tool/\n",
            "[Stanford-AI 107] https://ai.stanford.edu/blog/acl-2021/\n",
            "[Stanford-AI 108] https://ai.stanford.edu/blog/assistive-latent-spaces/\n",
            "[Stanford-AI 109] https://ai.stanford.edu/blog/text-causal-inference/\n",
            "[Stanford-AI 110] https://ai.stanford.edu/blog/infilling-by-language-modeling/\n",
            "[Stanford-AI 111] https://ai.stanford.edu/blog/mlsys/\n",
            "[Stanford-AI 112] https://ai.stanford.edu/blog/iclr-2022/\n",
            "[Stanford-AI 113] https://ai.stanford.edu/blog/chirpy-cardinal/\n",
            "[Stanford-AI 114] https://ai.stanford.edu/blog/retrieval-based-NLP/\n",
            "[Stanford-AI 115] https://ai.stanford.edu/blog/bifi/\n",
            "[Stanford-AI 116] https://ai.stanford.edu/blog/nlp/page/3/index.html\n",
            "[Stanford-AI 117] https://ai.stanford.edu/blog/sc-magnifies-disparities/\n",
            "[Stanford-AI 118] https://ai.stanford.edu/blog/alexa-sigdial/\n",
            "[Stanford-AI 119] https://ai.stanford.edu/blog/in-context-learning/\n",
            "[Stanford-AI 120] https://ai.stanford.edu/blog/qagnn/\n",
            "[Stanford-AI 121] https://ai.stanford.edu/blog/scalar-probing/\n",
            "[Stanford-AI 122] https://ai.stanford.edu/blog/nlp/index.html\n",
            "[Stanford-AI 123] https://ai.stanford.edu/blog/learning-from-language/\n",
            "[Stanford-AI 124] https://ai.stanford.edu/blog/eccv-2022/\n",
            "[Stanford-AI 125] https://ai.stanford.edu/blog/in-context-learning\n",
            "[Stanford-AI 126] https://ai.stanford.edu/blog/icml-2022/\n",
            "[Stanford-AI 127] https://ai.stanford.edu/blog/trajectory-forecasting/\n",
            "[Stanford-AI 128] https://ai.stanford.edu/blog/icml-2020/\n",
            "[Stanford-AI 129] https://ai.stanford.edu/blog/controllable-fairness/\n",
            "[Stanford-AI 130] https://ai.stanford.edu/blog/icra-2020/\n",
            "[Stanford-AI 131] https://ai.stanford.edu/blog/assets/img/posts/2018-11-02-measuring-hand-hygiene-in-hospitals/traj.gif\n",
            "[Stanford-AI 132] https://ai.stanford.edu/blog/altruistic-autonomy/\n",
            "[Stanford-AI 133] https://ai.stanford.edu/blog/hello-world/\n",
            "[Stanford-AI 134] https://ai.stanford.edu/blog/iclr-2021/\n",
            "[Stanford-AI 135] https://ai.stanford.edu/blog/deep-learning-structure-and-innate-priors/\n",
            "[Stanford-AI 136] https://ai.stanford.edu/blog/Bluepeoplevs.Neycity/\n",
            "[Stanford-AI 137] https://ai.stanford.edu/blog/influencelead/\n",
            "[Stanford-AI 138] https://ai.stanford.edu/blog/prototransformer/\n",
            "[Stanford-AI 139] https://ai.stanford.edu/blog/learning-from-partners/\n",
            "[Stanford-AI 140] https://ai.stanford.edu/blog/aistats-2021/\n",
            "[Stanford-AI 141] https://ai.stanford.edu/blog/iclr-2020/\n",
            "[Stanford-AI 142] https://ai.stanford.edu/blog/training-data-abstractions/\n",
            "[Stanford-AI 143] https://ai.stanford.edu/blog/uncertainty-autoencoders/\n",
            "[Stanford-AI 144] https://ai.stanford.edu/blog/adaptive-risk-minimization/\n",
            "[Stanford-AI 145] https://ai.stanford.edu/blog/rss-2020/\n",
            "[Stanford-AI 146] https://ai.stanford.edu/blog/corl-2021/\n",
            "[Stanford-AI 147] https://ai.stanford.edu/blog/adaptive-routing/\n",
            "[Stanford-AI 148] https://ai.stanford.edu/blog/icml-2021/\n",
            "[Stanford-AI 149] https://ai.stanford.edu/blog/emnlp-2022/\n",
            "[Stanford-AI 150] https://ai.stanford.edu/blog/neural-mechanics/\n",
            "[Stanford-AI 151] https://ai.stanford.edu/blog/neurips-2022/\n",
            "[Stanford-AI 152] https://ai.stanford.edu/blog/iclr-2023/\n",
            "[Stanford-AI 153] https://ai.stanford.edu/blog/iros-2022/\n",
            "[Stanford-AI 154] https://ai.stanford.edu/blog/iccv-2021/\n",
            "[Stanford-AI 155] https://ai.stanford.edu/blog/viewmaker/\n",
            "[Stanford-AI 156] https://ai.stanford.edu/blog/cvpr-2022/\n",
            "[Stanford-AI 157] https://ai.stanford.edu/blog/agqa/\n",
            "[Stanford-AI 158] https://ai.stanford.edu/blog/beyond-local-pattern-matching/\n",
            "[Stanford-AI 159] https://ai.stanford.edu/blog/data-centric-ai-retrospective/\n",
            "[Stanford-AI 160] https://ai.stanford.edu/blog/topologylayer/\n",
            "[Stanford-AI 161] https://ai.stanford.edu/blog/quizbot/\n",
            "[Stanford-AI 162] https://ai.stanford.edu/blog/icra-2022/\n",
            "[Stanford-AI 163] https://ai.stanford.edu/blog/dempref/\n",
            "[Stanford-AI 164] https://ai.stanford.edu/blog/conventions/\n",
            "[Stanford-AI 165] https://ai.stanford.edu/blog/aaai-2022/\n",
            "[Stanford-AI 166] https://ai.stanford.edu/blog/emnlp-2021/\n",
            "[Stanford-AI 167] https://ai.stanford.edu/blog/2024-04-30-iclr-2024/\n",
            "[Stanford-AI 168] https://ai.stanford.edu/blog/weak-supervision/\n",
            "[Stanford-AI 169] https://ai.stanford.edu/blog/batch-active-preference-learning/\n",
            "[Stanford-AI 170] https://ai.stanford.edu/blog/corl-2020/\n",
            "[Stanford-AI 171] https://ai.stanford.edu/blog/controllable-dialogue/\n",
            "[Stanford-AI 172] https://ai.stanford.edu/blog/modeling-risky-humans/\n",
            "[Stanford-AI 173] https://ai.stanford.edu/blog/ethical-best-practices/\n",
            "[Stanford-AI 174] https://ai.stanford.edu/blog/understanding-self-training/\n",
            "[Stanford-AI 175] https://ai.stanford.edu/blog/causal-abstraction/\n",
            "[Stanford-AI 176] https://ai.stanford.edu/blog/acl-2020/\n",
            "[Stanford-AI 177] https://ai.stanford.edu/blog/removing-spuriousfeature/\n",
            "[Stanford-AI 178] https://ai.stanford.edu/blog/naacl-2022/\n",
            "[Stanford-AI 179] https://ai.stanford.edu/blog/DrRepair/\n",
            "[Stanford-AI 180] https://ai.stanford.edu/blog/cvpr-2021/\n",
            "[Stanford-AI 181] https://ai.stanford.edu/blog/wilds/\n",
            "[Stanford-AI 182] https://ai.stanford.edu/blog/answering-complex-questions/\n",
            "[Stanford-AI 183] https://ai.stanford.edu/blog/play-to-grade/\n",
            "[Stanford-AI 184] https://ai.stanford.edu/blog/about/\n",
            "[Stanford-AI 185] https://ai.stanford.edu/blog/banditpam/\n",
            "[Stanford-AI 186] https://ai.stanford.edu/blog/bias-nlp/\n",
            "[Stanford-AI 187] https://ai.stanford.edu/blog/neurips-2021/\n",
            "[Stanford-AI 188] https://ai.stanford.edu/blog/corl-2022/\n",
            "[Stanford-AI 189] https://ai.stanford.edu/blog/subscribe/\n",
            "[Stanford-AI 190] https://ai.stanford.edu/~yzzhang/projects/concept-axes/\n",
            "[Stanford-AI 191] https://ai.stanford.edu/blog/page/4/index.html\n",
            "[Stanford-AI 192] https://ai.stanford.edu/~sttruong/avs\n",
            "[Stanford-AI 193] https://ai.stanford.edu/~sttruong/villm/leaderboard/\n",
            "[Stanford-AI 194] https://ai.stanford.edu/~sttruong/villm/leaderboard\n",
            "[Stanford-AI 195] https://ai.stanford.edu/~sttruong/villm/demo/\n",
            "[Stanford-AI 196] https://ai.stanford.edu/~sttruong/villm/prompt/\n",
            "[Stanford-AI 197] https://ai.stanford.edu/blog/understanding-self-training\n",
            "[Stanford-AI 198] https://ai.stanford.edu/blog/ml/index.html\n",
            "[Stanford-AI 199] https://ai.stanford.edu/blog/ml/page/3/index.html\n",
            "[Stanford-AI 200] https://ai.stanford.edu/blog/robotics/index.html\n",
            "[Stanford-AI 201] https://ai.stanford.edu/blog/robotics/page/3/index.html\n",
            "[Stanford-AI 202] https://ai.stanford.edu/blog/conferences/page/3/index.html\n",
            "[Stanford-AI 203] https://ai.stanford.edu/blog/conferences/index.html\n",
            "[Stanford-AI 204] https://ai.stanford.edu/~rhgao/objectfolder/\n",
            "[Stanford-AI 205] https://ai.stanford.edu/~rhgao/objectfolder2.0/\n",
            "[Stanford-AI 206] https://ai.stanford.edu/blog/assets/img/posts/2021-06-21-agqa/agqaexamples.gif\n"
          ]
        },
        {
          "output_type": "stream",
          "name": "stderr",
          "text": [
            "ERROR:trafilatura.downloads:download error: https://ai.stanford.edu/blog/assets/img/posts/2021-06-21-agqa/agqaexamples.gif MAX_FILE_SIZE exceeded\n"
          ]
        },
        {
          "output_type": "stream",
          "name": "stdout",
          "text": [
            "[Stanford-AI 206] https://ai.stanford.edu/blog/assets/img/posts/2021-06-21-agqa/introvideo.gif\n"
          ]
        },
        {
          "output_type": "stream",
          "name": "stderr",
          "text": [
            "ERROR:trafilatura.utils:parsed tree length: 1, wrong data type or not valid HTML\n",
            "ERROR:trafilatura.core:empty HTML tree: None\n",
            "WARNING:trafilatura.core:discarding data: None\n"
          ]
        },
        {
          "output_type": "stream",
          "name": "stdout",
          "text": [
            "[Stanford-AI 206] https://ai.stanford.edu/blog/assets/img/posts/2019-02-26-beyond_local_pattern_matching/img11.gif\n"
          ]
        },
        {
          "output_type": "stream",
          "name": "stderr",
          "text": [
            "ERROR:trafilatura.utils:parsed tree length: 1, wrong data type or not valid HTML\n",
            "ERROR:trafilatura.core:empty HTML tree: None\n",
            "WARNING:trafilatura.core:discarding data: None\n"
          ]
        },
        {
          "output_type": "stream",
          "name": "stdout",
          "text": [
            "[Stanford-AI 206] https://ai.stanford.edu/blog/assets/img/posts/2019-02-26-beyond_local_pattern_matching/img12.gif\n"
          ]
        },
        {
          "output_type": "stream",
          "name": "stderr",
          "text": [
            "ERROR:trafilatura.utils:parsed tree length: 1, wrong data type or not valid HTML\n",
            "ERROR:trafilatura.core:empty HTML tree: None\n",
            "WARNING:trafilatura.core:discarding data: None\n"
          ]
        },
        {
          "output_type": "stream",
          "name": "stdout",
          "text": [
            "[Stanford-AI 206] https://ai.stanford.edu/blog/assets/img/posts/2019-02-26-beyond_local_pattern_matching/img9.gif\n"
          ]
        },
        {
          "output_type": "stream",
          "name": "stderr",
          "text": [
            "ERROR:trafilatura.utils:parsed tree length: 1, wrong data type or not valid HTML\n",
            "ERROR:trafilatura.core:empty HTML tree: None\n",
            "WARNING:trafilatura.core:discarding data: None\n"
          ]
        },
        {
          "output_type": "stream",
          "name": "stdout",
          "text": [
            "[Stanford-AI 206] https://ai.stanford.edu/blog/assets/img/posts/2018-12-10-batch-active-preference-learning/image2.gif\n"
          ]
        },
        {
          "output_type": "stream",
          "name": "stderr",
          "text": [
            "ERROR:trafilatura.utils:parsed tree length: 1, wrong data type or not valid HTML\n",
            "ERROR:trafilatura.core:empty HTML tree: None\n",
            "WARNING:trafilatura.core:discarding data: None\n"
          ]
        },
        {
          "output_type": "stream",
          "name": "stdout",
          "text": [
            "[Stanford-AI 206] https://ai.stanford.edu/blog/assets/img/posts/2018-12-10-batch-active-preference-learning/image4.gif\n"
          ]
        },
        {
          "output_type": "stream",
          "name": "stderr",
          "text": [
            "ERROR:trafilatura.utils:parsed tree length: 1, wrong data type or not valid HTML\n",
            "ERROR:trafilatura.core:empty HTML tree: None\n",
            "WARNING:trafilatura.core:discarding data: None\n"
          ]
        },
        {
          "output_type": "stream",
          "name": "stdout",
          "text": [
            "[Stanford-AI 206] https://ai.stanford.edu/blog/assets/img/posts/2018-12-10-batch-active-preference-learning/image7.gif\n"
          ]
        },
        {
          "output_type": "stream",
          "name": "stderr",
          "text": [
            "ERROR:trafilatura.utils:parsed tree length: 1, wrong data type or not valid HTML\n",
            "ERROR:trafilatura.core:empty HTML tree: None\n",
            "WARNING:trafilatura.core:discarding data: None\n"
          ]
        },
        {
          "output_type": "stream",
          "name": "stdout",
          "text": [
            "[Stanford-AI 206] https://ai.stanford.edu/blog/assets/img/posts/2018-12-10-batch-active-preference-learning/image6.gif\n"
          ]
        },
        {
          "output_type": "stream",
          "name": "stderr",
          "text": [
            "ERROR:trafilatura.utils:parsed tree length: 1, wrong data type or not valid HTML\n",
            "ERROR:trafilatura.core:empty HTML tree: None\n",
            "WARNING:trafilatura.core:discarding data: None\n"
          ]
        },
        {
          "output_type": "stream",
          "name": "stdout",
          "text": [
            "[Stanford-AI 206] https://ai.stanford.edu/blog/assets/img/posts/2018-12-10-batch-active-preference-learning/image5.gif\n"
          ]
        },
        {
          "output_type": "stream",
          "name": "stderr",
          "text": [
            "ERROR:trafilatura.utils:parsed tree length: 1, wrong data type or not valid HTML\n",
            "ERROR:trafilatura.core:empty HTML tree: None\n",
            "WARNING:trafilatura.core:discarding data: None\n"
          ]
        },
        {
          "output_type": "stream",
          "name": "stdout",
          "text": [
            "[Stanford-AI 206] https://ai.stanford.edu/blog/assets/img/posts/2021-06-20-cvpr-2021/img5\n"
          ]
        },
        {
          "output_type": "stream",
          "name": "stderr",
          "text": [
            "ERROR:trafilatura.utils:lxml parsing failed: Document is empty\n",
            "ERROR:trafilatura.utils:lxml parser bytestring Document is empty\n",
            "ERROR:trafilatura.core:empty HTML tree: None\n",
            "WARNING:trafilatura.core:discarding data: None\n"
          ]
        },
        {
          "output_type": "stream",
          "name": "stdout",
          "text": [
            "[Stanford-AI 206] https://ai.stanford.edu/~rhgao/see_hear_feel/\n",
            "[Stanford-AI 207] https://ai.stanford.edu/blog/page/5/index.html\n",
            "[Stanford-AI 208] https://ai.stanford.edu/~sttruong/villm/leaderboard/fairness-aware/toxicity-detection\n",
            "[Stanford-AI 209] https://ai.stanford.edu/~sttruong/villm/leaderboard/fairness-aware/text-classification\n",
            "[Stanford-AI 210] https://ai.stanford.edu/~sttruong/villm/leaderboard/weaker-prompt/summarization\n",
            "[Stanford-AI 211] https://ai.stanford.edu/~sttruong/villm/leaderboard/robustness-aware/knowledge\n",
            "[Stanford-AI 212] https://ai.stanford.edu/~sttruong/villm/leaderboard/robustness-aware/translation\n",
            "[Stanford-AI 213] https://ai.stanford.edu/~sttruong/villm/leaderboard/fairness-aware/question-answering\n",
            "[Stanford-AI 214] https://ai.stanford.edu/~sttruong/villm/leaderboard/few-shot/toxicity-detection\n",
            "[Stanford-AI 215] https://ai.stanford.edu/~sttruong/villm/leaderboard/weaker-prompt/question-answering\n",
            "[Stanford-AI 216] https://ai.stanford.edu/~sttruong/villm/leaderboard/few-shot/text-classification\n",
            "[Stanford-AI 217] https://ai.stanford.edu/~sttruong/villm/leaderboard/fairness-aware/language-modeling\n",
            "[Stanford-AI 218] https://ai.stanford.edu/~sttruong/villm/leaderboard/few-shot/sentiment-analysis\n",
            "[Stanford-AI 219] https://ai.stanford.edu/~sttruong/villm/leaderboard/zero-shot/information-retrieval\n",
            "[Stanford-AI 220] https://ai.stanford.edu/~sttruong/villm/leaderboard/zero-shot/question-answering\n",
            "[Stanford-AI 221] https://ai.stanford.edu/~sttruong/villm/leaderboard/fairness-aware/information-retrieval\n",
            "[Stanford-AI 222] https://ai.stanford.edu/~sttruong/villm/leaderboard/robustness-aware/information-retrieval\n",
            "[Stanford-AI 223] https://ai.stanford.edu/~sttruong/villm/leaderboard/zero-shot/reasoning\n",
            "[Stanford-AI 224] https://ai.stanford.edu/~sttruong/villm/leaderboard/robustness-aware/summarization\n",
            "[Stanford-AI 225] https://ai.stanford.edu/~sttruong/villm/leaderboard/zero-shot/sentiment-analysis\n",
            "[Stanford-AI 226] https://ai.stanford.edu/~sttruong/villm/leaderboard/bias-toxicity/question-answering\n",
            "[Stanford-AI 227] https://ai.stanford.edu/~sttruong/villm/leaderboard/few-shot/translation\n",
            "[Stanford-AI 228] https://ai.stanford.edu/~sttruong/villm/leaderboard/zero-shot/text-classification\n",
            "[Stanford-AI 229] https://ai.stanford.edu/~sttruong/villm/leaderboard/few-shot/language-modeling\n",
            "[Stanford-AI 230] https://ai.stanford.edu/~sttruong/villm/leaderboard/robustness-aware/text-classification\n",
            "[Stanford-AI 231] https://ai.stanford.edu/~sttruong/villm/leaderboard/robustness-aware/question-answering\n",
            "[Stanford-AI 232] https://ai.stanford.edu/~sttruong/villm/leaderboard/randomized-choice/knowledge\n",
            "[Stanford-AI 233] https://ai.stanford.edu/~sttruong/villm/leaderboard/chain-of-thought/reasoning\n",
            "[Stanford-AI 234] https://ai.stanford.edu/~sttruong/villm/leaderboard/zero-shot/knowledge\n",
            "[Stanford-AI 235] https://ai.stanford.edu/~sttruong/villm/leaderboard/few-shot/knowledge\n",
            "[Stanford-AI 236] https://ai.stanford.edu/~sttruong/villm/leaderboard/fairness-aware/sentiment-analysis\n",
            "[Stanford-AI 237] https://ai.stanford.edu/~sttruong/villm/leaderboard/robustness-aware/toxicity-detection\n",
            "[Stanford-AI 238] https://ai.stanford.edu/~sttruong/villm/leaderboard/few-shot/information-retrieval\n",
            "[Stanford-AI 239] https://ai.stanford.edu/~sttruong/villm/leaderboard/zero-shot/language-modeling\n",
            "[Stanford-AI 240] https://ai.stanford.edu/~sttruong/villm/leaderboard/bias-toxicity/summarization\n",
            "[Stanford-AI 241] https://ai.stanford.edu/~sttruong/villm/leaderboard/bias-toxicity/translation\n",
            "[Stanford-AI 242] https://ai.stanford.edu/~sttruong/villm/leaderboard/zero-shot/toxicity-detection\n",
            "[Stanford-AI 243] https://ai.stanford.edu/~sttruong/villm/leaderboard/few-shot/reasoning\n",
            "[Stanford-AI 244] https://ai.stanford.edu/~sttruong/villm/leaderboard/robustness-aware/sentiment-analysis\n",
            "[Stanford-AI 245] https://ai.stanford.edu/~sttruong/villm/leaderboard/zero-shot/summarization\n",
            "[Stanford-AI 246] https://ai.stanford.edu/blog/ml/page/4/index.html\n",
            "[Stanford-AI 247] https://ai.stanford.edu/blog/conferences/page/4/index.html\n",
            "[Stanford-AI 248] https://ai.stanford.edu/~rhgao/\n",
            "[Stanford-AI 249] https://ai.stanford.edu/blog/page/6/index.html\n",
            "[Stanford-AI 250] https://ai.stanford.edu/blog/conferences/page/5/index.html\n",
            "[Stanford-AI 251] https://ai.stanford.edu/blog/page/7/index.html\n",
            "[Stanford-AI 252] https://ai.stanford.edu/blog/page/8/index.html\n",
            "[Stanford-AI 253] https://ai.stanford.edu/blog/page/9/index.html\n",
            "[Stanford-AI 254] https://ai.stanford.edu/blog/page/10/index.html\n",
            "[Stanford-AI 255] https://ai.stanford.edu/blog/page/11/index.html\n",
            "[Stanford-AI 256] https://ai.stanford.edu/blog/page/12/index.html\n",
            "[Stanford-AI 257] https://ai.stanford.edu/blog/page/13/index.html\n",
            "[Stanford-AI 258] https://ai.stanford.edu/blog/page/14/index.html\n",
            "✅ Stanford-AI done. 258 pages scraped.\n",
            "\n",
            "\n",
            "====== Crawling Stanford-Online ======\n",
            "[Stanford-Online 1] https://online.stanford.edu/courses\n"
          ]
        },
        {
          "output_type": "stream",
          "name": "stderr",
          "text": [
            "ERROR:trafilatura.downloads:not a 200 response: 403 for URL https://online.stanford.edu/courses\n"
          ]
        },
        {
          "output_type": "stream",
          "name": "stdout",
          "text": [
            "✅ Stanford-Online done. 0 pages scraped.\n",
            "\n",
            "\n",
            "====== Crawling Berkeley-EECS ======\n",
            "[Berkeley-EECS 1] https://eecs.berkeley.edu/\n",
            "✅ Berkeley-EECS done. 1 pages scraped.\n",
            "\n",
            "\n",
            "====== Crawling Berkeley-BAIR ======\n",
            "[Berkeley-BAIR 1] https://bair.berkeley.edu/blog/\n",
            "[Berkeley-BAIR 2] https://bair.berkeley.edu/blog/2025/03/25/rl-av-smoothing/\n",
            "[Berkeley-BAIR 3] https://bair.berkeley.edu/blog/2025/04/11/prompt-injection-defense/\n",
            "[Berkeley-BAIR 4] https://bair.berkeley.edu/blog/2024/08/28/strong-reject/\n",
            "[Berkeley-BAIR 5] https://bair.berkeley.edu/blog/2024/05/29/tiny-agent/\n",
            "[Berkeley-BAIR 6] https://bair.berkeley.edu/blog/2024/09/20/linguistic-bias/\n",
            "[Berkeley-BAIR 7] https://bair.berkeley.edu/blog/page2/\n",
            "[Berkeley-BAIR 8] https://bair.berkeley.edu/blog/2025/04/08/plaid/\n",
            "[Berkeley-BAIR 9] https://bair.berkeley.edu/blog/2024/03/11/grads-2024/\n",
            "[Berkeley-BAIR 10] https://bair.berkeley.edu/blog/2024/03/21/xt/\n",
            "[Berkeley-BAIR 11] https://bair.berkeley.edu/blog/2024/11/12/virutal-persona-llm/\n",
            "[Berkeley-BAIR 12] https://bair.berkeley.edu/blog/subscribe/\n",
            "[Berkeley-BAIR 13] https://bair.berkeley.edu/blog/about/\n",
            "[Berkeley-BAIR 14] https://bair.berkeley.edu/blog/2024/07/20/visual-haystacks/\n",
            "[Berkeley-BAIR 15] https://bair.berkeley.edu/blog/archive/\n",
            "[Berkeley-BAIR 16] https://bair.berkeley.edu/blog/feed.xml\n"
          ]
        },
        {
          "output_type": "stream",
          "name": "stderr",
          "text": [
            "ERROR:trafilatura.utils:parsed tree length: 1, wrong data type or not valid HTML\n",
            "ERROR:trafilatura.core:empty HTML tree: None\n",
            "WARNING:trafilatura.core:discarding data: None\n",
            "<ipython-input-1-b5aa95ad148a>:37: XMLParsedAsHTMLWarning: It looks like you're using an HTML parser to parse an XML document.\n",
            "\n",
            "Assuming this really is an XML document, what you're doing might work, but you should know that using an XML parser will be more reliable. To parse this document as XML, make sure you have the Python package 'lxml' installed, and pass the keyword argument `features=\"xml\"` into the BeautifulSoup constructor.\n",
            "\n",
            "If you want or need to use an HTML parser on this document, you can make this warning go away by filtering it. To do that, run this code before calling the BeautifulSoup constructor:\n",
            "\n",
            "    from bs4 import XMLParsedAsHTMLWarning\n",
            "    import warnings\n",
            "\n",
            "    warnings.filterwarnings(\"ignore\", category=XMLParsedAsHTMLWarning)\n",
            "\n",
            "  soup = BeautifulSoup(response.text, \"html.parser\")\n"
          ]
        },
        {
          "output_type": "stream",
          "name": "stdout",
          "text": [
            "[Berkeley-BAIR 16] https://bair.berkeley.edu/blog/2023/07/10/stepwise-ssl/\n",
            "[Berkeley-BAIR 17] https://bair.berkeley.edu/blog/2023/10/17/grif/\n",
            "[Berkeley-BAIR 18] https://bair.berkeley.edu/blog/2023/01/20/relmm/\n",
            "[Berkeley-BAIR 19] https://bair.berkeley.edu/blog/2020/04/27/ingredients/\n",
            "[Berkeley-BAIR 20] https://bair.berkeley.edu/blog/2023/05/23/lmd/\n",
            "[Berkeley-BAIR 21] https://bair.berkeley.edu/blog/page3/\n",
            "[Berkeley-BAIR 22] https://bair.berkeley.edu/blog/2023/10/16/p3o/\n",
            "[Berkeley-BAIR 23] https://bair.berkeley.edu/blog/2023/07/14/ddpo/\n",
            "[Berkeley-BAIR 24] https://bair.berkeley.edu/blog/2023/06/29/coarsenconf/\n",
            "[Berkeley-BAIR 25] https://bair.berkeley.edu/blog/2023/04/06/ifl/\n",
            "[Berkeley-BAIR 26] https://bair.berkeley.edu/blog/2023/04/03/koala/\n",
            "[Berkeley-BAIR 27] https://bair.berkeley.edu/blog/2023/11/14/fcnn/\n",
            "[Berkeley-BAIR 28] https://bair.berkeley.edu/blog/2020/11/05/arm/\n",
            "[Berkeley-BAIR 29] https://bair.berkeley.edu/blog/2021/10/22/mural/\n",
            "[Berkeley-BAIR 30] https://bair.berkeley.edu/blog/2017/10/06/soft-q-learning/\n",
            "[Berkeley-BAIR 31] https://bair.berkeley.edu/blog/2020/11/20/sgm/\n",
            "[Berkeley-BAIR 32] https://bair.berkeley.edu/blog/2017/10/26/dart/\n",
            "[Berkeley-BAIR 33] https://bair.berkeley.edu/blog/2020/10/06/plan2explore/\n",
            "[Berkeley-BAIR 34] https://bair.berkeley.edu/blog/2022/05/03/human-in-the-loop/\n",
            "[Berkeley-BAIR 35] https://bair.berkeley.edu/blog/2017/10/17/lfd-surgical-robots/\n",
            "[Berkeley-BAIR 36] https://bair.berkeley.edu/blog/2018/12/12/rllib/\n",
            "[Berkeley-BAIR 37] https://bair.berkeley.edu/blog/2019/09/24/rlpyt/\n",
            "[Berkeley-BAIR 38] https://bair.berkeley.edu/blog/2024/02/18/compound-ai-systems/\n",
            "[Berkeley-BAIR 39] https://bair.berkeley.edu/blog/2017/08/31/saddle-efficiency/\n",
            "[Berkeley-BAIR 40] https://bair.berkeley.edu/blog/2017/07/11/confluence-of-geometry-and-learning/\n",
            "[Berkeley-BAIR 41] https://bair.berkeley.edu/blog/2018/01/23/kernels/\n",
            "[Berkeley-BAIR 42] https://bair.berkeley.edu/blog/2020/05/01/umrl/\n",
            "[Berkeley-BAIR 43] https://bair.berkeley.edu/blog/2020/05/14/omnitact/\n",
            "[Berkeley-BAIR 44] https://bair.berkeley.edu/blog/2021/10/14/forecasting/\n",
            "[Berkeley-BAIR 45] https://bair.berkeley.edu/blog/2019/05/28/end-to-end/\n",
            "[Berkeley-BAIR 46] https://bair.berkeley.edu/blog/2019/12/18/smirl/\n",
            "[Berkeley-BAIR 47] https://bair.berkeley.edu/blog/2022/02/02/imodels/\n",
            "[Berkeley-BAIR 48] https://bair.berkeley.edu/blog/2018/06/28/daml/\n",
            "[Berkeley-BAIR 49] https://bair.berkeley.edu/blog/2017/08/02/minibatch-metropolis-hastings/\n",
            "[Berkeley-BAIR 50] https://bair.berkeley.edu/blog/2018/08/06/recurrent/\n",
            "[Berkeley-BAIR 51] https://bair.berkeley.edu/blog/2017/12/20/reverse-curriculum/\n",
            "[Berkeley-BAIR 52] https://bair.berkeley.edu/blog/2020/08/03/covid-fatality/\n",
            "[Berkeley-BAIR 53] https://bair.berkeley.edu/blog/2020/09/10/awac/\n",
            "[Berkeley-BAIR 54] https://bair.berkeley.edu/blog/2018/04/10/virtual-stuntman/\n",
            "[Berkeley-BAIR 55] https://bair.berkeley.edu/blog/2021/07/08/basalt/\n",
            "[Berkeley-BAIR 56] https://bair.berkeley.edu/blog/2019/10/21/coordination/\n",
            "[Berkeley-BAIR 57] https://bair.berkeley.edu/blog/2021/11/03/recon/\n",
            "[Berkeley-BAIR 58] https://bair.berkeley.edu/blog/2021/04/19/mbrl/\n",
            "[Berkeley-BAIR 59] https://bair.berkeley.edu/blog/2019/02/15/false-discoveries/\n",
            "[Berkeley-BAIR 60] https://bair.berkeley.edu/blog/2020/06/25/D4RL/\n",
            "[Berkeley-BAIR 61] https://bair.berkeley.edu/blog/2021/11/05/epistemic-pomdp/\n",
            "[Berkeley-BAIR 62] https://bair.berkeley.edu/blog/2017/07/18/learning-to-learn/\n",
            "[Berkeley-BAIR 63] https://bair.berkeley.edu/blog/2019/10/14/functional-rl/\n",
            "[Berkeley-BAIR 64] https://bair.berkeley.edu/blog/2019/09/19/bit-swap/\n",
            "[Berkeley-BAIR 65] https://bair.berkeley.edu/blog/2020/03/12/badgr/\n",
            "[Berkeley-BAIR 66] https://bair.berkeley.edu/blog/2018/12/05/genes/\n",
            "[Berkeley-BAIR 67] https://bair.berkeley.edu/blog/2019/06/03/benchmarks/\n",
            "[Berkeley-BAIR 68] https://bair.berkeley.edu/blog/2020/07/11/auction/\n",
            "[Berkeley-BAIR 69] https://bair.berkeley.edu/blog/2022/04/25/rl-or-bc/\n",
            "[Berkeley-BAIR 70] https://bair.berkeley.edu/blog/2021/03/23/universal-computation/\n",
            "[Berkeley-BAIR 71] https://bair.berkeley.edu/blog/2020/10/13/supervised-rl/\n",
            "[Berkeley-BAIR 72] https://bair.berkeley.edu/blog/2020/08/16/ai4all/\n",
            "[Berkeley-BAIR 73] https://bair.berkeley.edu/blog/2019/11/22/anca/\n",
            "[Berkeley-BAIR 74] https://bair.berkeley.edu/blog/2020/03/05/compress/\n",
            "[Berkeley-BAIR 75] https://bair.berkeley.edu/blog/2018/11/26/physics-learning/\n",
            "[Berkeley-BAIR 76] https://bair.berkeley.edu/blog/2021/11/18/bridge-data/\n",
            "[Berkeley-BAIR 77] https://bair.berkeley.edu/blog/2022/09/19/ldm-control/\n",
            "[Berkeley-BAIR 78] https://bair.berkeley.edu/blog/2018/06/18/bdd-update/\n",
            "[Berkeley-BAIR 79] https://bair.berkeley.edu/blog/2022/05/20/crosswords/\n",
            "[Berkeley-BAIR 80] https://bair.berkeley.edu/blog/2021/01/05/successor/\n",
            "[Berkeley-BAIR 81] https://bair.berkeley.edu/blog/2022/03/21/ukraine-sar-maers/\n",
            "[Berkeley-BAIR 82] https://bair.berkeley.edu/blog/2021/09/28/wavelet/\n",
            "[Berkeley-BAIR 83] https://bair.berkeley.edu/blog/2020/06/14/ocda/\n",
            "[Berkeley-BAIR 84] https://bair.berkeley.edu/blog/2022/08/29/reverse-engineering/\n",
            "[Berkeley-BAIR 85] https://bair.berkeley.edu/blog/2020/12/07/offline/\n",
            "[Berkeley-BAIR 86] https://bair.berkeley.edu/blog/2021/12/15/unsupervised-rl/\n",
            "[Berkeley-BAIR 87] https://bair.berkeley.edu/blog/2021/05/03/rlsp/\n",
            "[Berkeley-BAIR 88] https://bair.berkeley.edu/blog/2017/06/20/welcome/\n",
            "[Berkeley-BAIR 89] https://bair.berkeley.edu/blog/2018/10/09/sfv/\n",
            "[Berkeley-BAIR 90] https://bair.berkeley.edu/blog/2021/10/25/eigenlearning/\n",
            "[Berkeley-BAIR 91] https://bair.berkeley.edu/blog/2021/11/19/mi-sufficiency-analysis/\n",
            "[Berkeley-BAIR 92] https://bair.berkeley.edu/blog/2019/02/11/learning_preferences/\n",
            "[Berkeley-BAIR 93] https://bair.berkeley.edu/blog/2017/12/12/corobots/\n",
            "[Berkeley-BAIR 94] https://bair.berkeley.edu/blog/2020/01/16/tune/\n",
            "[Berkeley-BAIR 95] https://bair.berkeley.edu/blog/2017/06/20/learning-to-reason-with-neural-module-networks/\n",
            "[Berkeley-BAIR 96] https://bair.berkeley.edu/blog/2021/02/25/ss-adaptation/\n",
            "[Berkeley-BAIR 97] https://bair.berkeley.edu/blog/2021/10/06/pico/\n",
            "[Berkeley-BAIR 98] https://bair.berkeley.edu/blog/2017/06/27/dexnet-2.0/\n",
            "[Berkeley-BAIR 99] https://bair.berkeley.edu/blog/2019/03/18/rl-generalization/\n",
            "[Berkeley-BAIR 100] https://bair.berkeley.edu/blog/2019/05/13/oltr/\n",
            "[Berkeley-BAIR 101] https://bair.berkeley.edu/blog/2023/11/14/ghostbuster/\n",
            "[Berkeley-BAIR 102] https://bair.berkeley.edu/blog/2021/03/09/maxent-robust-rl/\n",
            "[Berkeley-BAIR 103] https://bair.berkeley.edu/blog/2021/09/24/visual-affordances-robotics/\n",
            "[Berkeley-BAIR 104] https://bair.berkeley.edu/blog/2019/09/30/deep-dynamics/\n",
            "[Berkeley-BAIR 105] https://bair.berkeley.edu/blog/2018/05/17/delayed-impact/\n",
            "[Berkeley-BAIR 106] https://bair.berkeley.edu/blog/2019/12/05/bear/\n",
            "[Berkeley-BAIR 107] https://bair.berkeley.edu/blog/2018/12/14/sac/\n",
            "[Berkeley-BAIR 108] https://bair.berkeley.edu/blog/2019/03/21/tactile/\n",
            "[Berkeley-BAIR 109] https://bair.berkeley.edu/blog/2022/07/10/pg-ar/\n",
            "[Berkeley-BAIR 110] https://bair.berkeley.edu/blog/2017/08/17/cooperatively-learning-human-values/\n",
            "[Berkeley-BAIR 111] https://bair.berkeley.edu/blog/2019/04/11/tools/\n",
            "[Berkeley-BAIR 112] https://bair.berkeley.edu/blog/2021/11/01/epistemic-pomdp/\n",
            "[Berkeley-BAIR 113] https://bair.berkeley.edu/blog/2020/04/23/decisions/\n",
            "[Berkeley-BAIR 114] https://bair.berkeley.edu/blog/2020/03/27/attacks/\n",
            "[Berkeley-BAIR 115] https://bair.berkeley.edu/blog/2019/09/26/circuits/\n",
            "[Berkeley-BAIR 116] https://bair.berkeley.edu/blog/2018/09/06/rig/\n",
            "[Berkeley-BAIR 117] https://bair.berkeley.edu/blog/2019/12/12/mbpo/\n",
            "[Berkeley-BAIR 118] https://bair.berkeley.edu/blog/2017/08/08/novel-object-captioning/\n",
            "[Berkeley-BAIR 119] https://bair.berkeley.edu/blog/2017/09/12/learning-to-optimize-with-rl/\n",
            "[Berkeley-BAIR 120] https://bair.berkeley.edu/blog/2020/03/16/discor/\n",
            "[Berkeley-BAIR 121] https://bair.berkeley.edu/blog/2017/11/09/learn-to-attend-fovea/\n",
            "[Berkeley-BAIR 122] https://bair.berkeley.edu/blog/2018/04/26/tdm/\n",
            "[Berkeley-BAIR 123] https://bair.berkeley.edu/blog/2017/11/30/model-based-rl/\n",
            "[Berkeley-BAIR 124] https://bair.berkeley.edu/blog/2019/06/07/data_aug/\n",
            "[Berkeley-BAIR 125] https://bair.berkeley.edu/blog/2019/03/27/cvpr-competition/\n",
            "[Berkeley-BAIR 126] https://bair.berkeley.edu/blog/2019/05/06/robot-adapt/\n",
            "[Berkeley-BAIR 127] https://bair.berkeley.edu/blog/2018/10/23/depth-sensing/\n",
            "[Berkeley-BAIR 128] https://bair.berkeley.edu/blog/2021/07/22/spml/\n",
            "[Berkeley-BAIR 129] https://bair.berkeley.edu/blog/2018/01/09/ray/\n",
            "[Berkeley-BAIR 130] https://bair.berkeley.edu/blog/2022/06/30/figs/\n",
            "[Berkeley-BAIR 131] https://bair.berkeley.edu/blog/2017/09/05/unified-3d/\n",
            "[Berkeley-BAIR 132] https://bair.berkeley.edu/blog/2018/04/18/shared-autonomy/\n",
            "[Berkeley-BAIR 133] https://bair.berkeley.edu/blog/2019/12/16/data-worth/\n",
            "[Berkeley-BAIR 134] https://bair.berkeley.edu/blog/2017/12/05/fastrack/\n",
            "[Berkeley-BAIR 135] https://bair.berkeley.edu/blog/2021/11/19/trajectory-transformer/\n",
            "[Berkeley-BAIR 136] https://bair.berkeley.edu/blog/2019/10/28/look-then-listen/\n",
            "[Berkeley-BAIR 137] https://bair.berkeley.edu/blog/2021/09/29/ml-safety/\n",
            "[Berkeley-BAIR 138] https://bair.berkeley.edu/blog/2019/12/13/humans-cyclegan/\n",
            "[Berkeley-BAIR 139] https://bair.berkeley.edu/blog/2018/11/14/adasearch/\n",
            "[Berkeley-BAIR 140] https://bair.berkeley.edu/blog/2019/11/04/proteins/\n",
            "[Berkeley-BAIR 141] https://bair.berkeley.edu/blog/2018/03/13/mcgan/\n",
            "[Berkeley-BAIR 142] https://bair.berkeley.edu/blog/2018/11/30/visual-rl/\n",
            "[Berkeley-BAIR 143] https://bair.berkeley.edu/blog/2020/07/19/curl-rad/\n",
            "[Berkeley-BAIR 144] https://bair.berkeley.edu/blog/2019/05/20/solar/\n",
            "[Berkeley-BAIR 145] https://bair.berkeley.edu/blog/2018/02/06/phri/\n",
            "[Berkeley-BAIR 146] https://bair.berkeley.edu/blog/2017/07/06/cpo/\n",
            "[Berkeley-BAIR 147] https://bair.berkeley.edu/blog/2022/02/23/cic/\n",
            "[Berkeley-BAIR 148] https://bair.berkeley.edu/blog/2019/08/13/memorization/\n",
            "[Berkeley-BAIR 149] https://bair.berkeley.edu/blog/2019/06/10/pearl/\n",
            "[Berkeley-BAIR 150] https://bair.berkeley.edu/blog/2022/04/20/rvs/\n",
            "[Berkeley-BAIR 151] https://bair.berkeley.edu/blog/2018/08/31/dexterous-manip/\n",
            "[Berkeley-BAIR 152] https://bair.berkeley.edu/blog/2022/04/29/reward-reports/\n",
            "[Berkeley-BAIR 153] https://bair.berkeley.edu/blog/2020/11/13/ridge-rider/\n",
            "[Berkeley-BAIR 154] https://bair.berkeley.edu/blog/2019/03/24/bair-commons/\n",
            "[Berkeley-BAIR 155] https://bair.berkeley.edu/blog/2017/12/30/yolo-attack/\n",
            "[Berkeley-BAIR 156] https://bair.berkeley.edu/blog/2020/04/03/laikago/\n",
            "[Berkeley-BAIR 157] https://bair.berkeley.edu/blog/2021/10/25/coms_mbo/\n",
            "[Berkeley-BAIR 158] https://bair.berkeley.edu/blog/2020/12/20/lmmem/\n",
            "[Berkeley-BAIR 159] https://bair.berkeley.edu/blog/2019/11/26/robo-net/\n",
            "[Berkeley-BAIR 160] https://bair.berkeley.edu/blog/2017/08/23/high-quality-3d-obj-reconstruction/\n",
            "[Berkeley-BAIR 161] https://bair.berkeley.edu/blog/2021/07/14/mappo/\n",
            "[Berkeley-BAIR 162] https://bair.berkeley.edu/blog/2018/05/30/bdd/\n",
            "[Berkeley-BAIR 163] https://bair.berkeley.edu/blog/2021/04/20/epic/\n",
            "[Berkeley-BAIR 164] https://bair.berkeley.edu/blog/2020/05/05/fabrics/\n",
            "[Berkeley-BAIR 165] https://bair.berkeley.edu/blog/2020/07/24/icm-kids/\n",
            "[Berkeley-BAIR 166] https://bair.berkeley.edu/blog/page4/\n"
          ]
        },
        {
          "output_type": "stream",
          "name": "stderr",
          "text": [
            "WARNING:trafilatura.core:discarding data: None\n"
          ]
        },
        {
          "output_type": "stream",
          "name": "stdout",
          "text": [
            "[Berkeley-BAIR 167] https://bair.berkeley.edu/\n"
          ]
        },
        {
          "output_type": "stream",
          "name": "stderr",
          "text": [
            "ERROR:trafilatura.downloads:not a 200 response: 404 for URL https://bair.berkeley.edu/faculty.html\n"
          ]
        },
        {
          "output_type": "stream",
          "name": "stdout",
          "text": [
            "[Berkeley-BAIR 167] https://bair.berkeley.edu/faculty.html\n"
          ]
        },
        {
          "output_type": "stream",
          "name": "stderr",
          "text": [
            "WARNING:trafilatura.core:discarding data: None\n"
          ]
        },
        {
          "output_type": "stream",
          "name": "stdout",
          "text": [
            "[Berkeley-BAIR 167] https://bair.berkeley.edu/students.html\n"
          ]
        },
        {
          "output_type": "stream",
          "name": "stderr",
          "text": [
            "ERROR:trafilatura.downloads:not a 200 response: 404 for URL https://bair.berkeley.edu//people.eecs.berkeley.edu/~pcmoritz\n"
          ]
        },
        {
          "output_type": "stream",
          "name": "stdout",
          "text": [
            "[Berkeley-BAIR 167] https://bair.berkeley.edu//people.eecs.berkeley.edu/~pcmoritz\n",
            "[Berkeley-BAIR 167] https://bair.berkeley.edu/blog/page5/\n",
            "[Berkeley-BAIR 168] https://bair.berkeley.edu/blog/page6/\n",
            "[Berkeley-BAIR 169] https://bair.berkeley.edu/blog/page7/\n",
            "[Berkeley-BAIR 170] https://bair.berkeley.edu/blog/page8/\n",
            "[Berkeley-BAIR 171] https://bair.berkeley.edu/blog/page9/\n",
            "[Berkeley-BAIR 172] https://bair.berkeley.edu/blog/page10/\n",
            "[Berkeley-BAIR 173] https://bair.berkeley.edu/blog/page11/\n",
            "[Berkeley-BAIR 174] https://bair.berkeley.edu/blog/page12/\n",
            "✅ Berkeley-BAIR done. 174 pages scraped.\n",
            "\n",
            "\n",
            "====== Crawling CMU-CS ======\n",
            "[CMU-CS 1] https://www.cs.cmu.edu/\n",
            "[CMU-CS 2] https://www.cs.cmu.edu/directory\n",
            "[CMU-CS 3] https://www.cs.cmu.edu/outreach/summer-research-opportunities\n"
          ]
        },
        {
          "output_type": "stream",
          "name": "stderr",
          "text": [
            "ERROR:trafilatura.utils:parsed tree length: 1, wrong data type or not valid HTML\n",
            "ERROR:trafilatura.core:empty HTML tree: None\n",
            "WARNING:trafilatura.core:discarding data: None\n"
          ]
        },
        {
          "output_type": "stream",
          "name": "stdout",
          "text": [
            "[CMU-CS 4] https://www.cs.cmu.edu/news/feed.rss\n",
            "[CMU-CS 4] https://www.cs.cmu.edu/giving\n",
            "[CMU-CS 5] https://www.cs.cmu.edu/overview-programs\n",
            "[CMU-CS 6] https://www.cs.cmu.edu/scs-distinguished-lecture-series\n",
            "[CMU-CS 7] https://www.cs.cmu.edu/research\n",
            "[CMU-CS 8] https://www.cs.cmu.edu/calendar\n",
            "[CMU-CS 9] https://www.cs.cmu.edu//www.qatar.cmu.edu\n"
          ]
        },
        {
          "output_type": "stream",
          "name": "stderr",
          "text": [
            "ERROR:trafilatura.downloads:not a 200 response: 404 for URL https://www.cs.cmu.edu//www.qatar.cmu.edu\n"
          ]
        },
        {
          "output_type": "stream",
          "name": "stdout",
          "text": [
            "[CMU-CS 9] https://www.cs.cmu.edu/people/achievements/newell\n",
            "[CMU-CS 10] https://www.cs.cmu.edu/publications\n",
            "[CMU-CS 11] https://www.cs.cmu.edu/academics/course-listings-department\n",
            "[CMU-CS 12] https://www.cs.cmu.edu/directory/\n",
            "[CMU-CS 13] https://www.cs.cmu.edu/directory/hcii\n",
            "[CMU-CS 14] https://www.cs.cmu.edu/directory/s3d\n",
            "[CMU-CS 15] https://www.cs.cmu.edu/directory/all\n",
            "[CMU-CS 16] https://www.cs.cmu.edu/directory/mld\n",
            "[CMU-CS 17] https://www.cs.cmu.edu/directory/ri\n",
            "[CMU-CS 18] https://www.cs.cmu.edu/key-contacts\n",
            "[CMU-CS 19] https://www.cs.cmu.edu/directory/lti\n",
            "[CMU-CS 20] https://www.cs.cmu.edu/directory/computing\n",
            "[CMU-CS 21] https://www.cs.cmu.edu/directory/dean\n",
            "[CMU-CS 22] https://www.cs.cmu.edu/directory/cbd\n",
            "[CMU-CS 23] https://www.cs.cmu.edu/directory/csd\n",
            "[CMU-CS 24] https://www.cs.cmu.edu/funds/scs-outreach-fund\n",
            "[CMU-CS 25] https://www.cs.cmu.edu/funds/dean-s-innovation-fund-scs\n",
            "[CMU-CS 26] https://www.cs.cmu.edu/funds/scs-general-scholarship-fund\n",
            "[CMU-CS 27] https://www.cs.cmu.edu/funds/graduate-education-fellowship-fund\n",
            "[CMU-CS 28] https://www.cs.cmu.edu/funds\n",
            "[CMU-CS 29] https://www.cs.cmu.edu/about-dean\n"
          ]
        },
        {
          "output_type": "stream",
          "name": "stderr",
          "text": [
            "ERROR:trafilatura.downloads:not a 200 response: 404 for URL https://www.cs.cmu.edu/~music/mat/\n"
          ]
        },
        {
          "output_type": "stream",
          "name": "stdout",
          "text": [
            "[CMU-CS 30] https://www.cs.cmu.edu/~music/mat/\n",
            "[CMU-CS 30] https://www.cs.cmu.edu/bsai\n"
          ]
        },
        {
          "output_type": "stream",
          "name": "stderr",
          "text": [
            "ERROR:trafilatura.downloads:download error: https://www.cs.cmu.edu/bsai HTTPSConnectionPool(host='www.cs.cmu.edu', port=443): Max retries exceeded with url: https://www.cs.cmu.edu/bs-in-artificial-intelligence (Caused by ResponseError('too many redirects'))\n",
            "ERROR:trafilatura.downloads:not a 200 response: 404 for URL https://www.cs.cmu.edu/~music/mat/master.html\n"
          ]
        },
        {
          "output_type": "stream",
          "name": "stdout",
          "text": [
            "[CMU-CS 30] https://www.cs.cmu.edu/~music/mat/master.html\n",
            "[CMU-CS 30] https://www.cs.cmu.edu/doctoral-programs\n",
            "[CMU-CS 31] https://www.cs.cmu.edu/masters-programs\n",
            "[CMU-CS 32] https://www.cs.cmu.edu/news\n",
            "[CMU-CS 33] https://www.cs.cmu.edu/scs-tour-policy\n",
            "[CMU-CS 34] https://www.cs.cmu.edu/bs-in-artificial-intelligence/\n",
            "[CMU-CS 35] https://www.cs.cmu.edu/calendar/export.ics\n"
          ]
        },
        {
          "output_type": "stream",
          "name": "stderr",
          "text": [
            "ERROR:trafilatura.utils:parsed tree length: 0, wrong data type or not valid HTML\n",
            "ERROR:trafilatura.core:empty HTML tree: None\n",
            "WARNING:trafilatura.core:discarding data: None\n"
          ]
        },
        {
          "output_type": "stream",
          "name": "stdout",
          "text": [
            "[CMU-CS 35] https://www.cs.cmu.edu/calendar/feed/rss.xml\n"
          ]
        },
        {
          "output_type": "stream",
          "name": "stderr",
          "text": [
            "ERROR:trafilatura.utils:parsed tree length: 1, wrong data type or not valid HTML\n",
            "ERROR:trafilatura.core:empty HTML tree: None\n",
            "WARNING:trafilatura.core:discarding data: None\n"
          ]
        },
        {
          "output_type": "stream",
          "name": "stdout",
          "text": [
            "[CMU-CS 35] https://www.cs.cmu.edu/partnerships?utm_source=internal&utm_medium=web&utm_campaign=pships-in-menu\n"
          ]
        },
        {
          "output_type": "stream",
          "name": "stderr",
          "text": [
            "ERROR:trafilatura.utils:parsed tree length: 1, wrong data type or not valid HTML\n",
            "ERROR:trafilatura.core:empty HTML tree: None\n",
            "WARNING:trafilatura.core:discarding data: None\n"
          ]
        },
        {
          "output_type": "stream",
          "name": "stdout",
          "text": [
            "[CMU-CS 36] https://www.cs.cmu.edu/feed/rss.xml\n",
            "[CMU-CS 36] https://www.cs.cmu.edu/people/achievements/newell/newellmedal_winners\n",
            "[CMU-CS 37] https://www.cs.cmu.edu/afs/cs.cmu.edu/user/copetas/www/public/video/intel95.html\n",
            "[CMU-CS 38] https://www.cs.cmu.edu/afs/cs.cmu.edu/user/copetas/www/public/video/hci.html\n",
            "[CMU-CS 39] https://www.cs.cmu.edu/afs/cs.cmu.edu/user/copetas/www/public/video/hopper94.html\n",
            "[CMU-CS 40] https://www.cs.cmu.edu/afs/cs.cmu.edu/user/copetas/www/public/video/inventing.html\n",
            "[CMU-CS 41] https://www.cs.cmu.edu/afs/cs.cmu.edu/user/copetas/www/public/video/ibm.html\n",
            "[CMU-CS 42] https://www.cs.cmu.edu/afs/cs.cmu.edu/user/copetas/www/public/video/general.html\n",
            "[CMU-CS 43] https://www.cs.cmu.edu/afs/cs/project/mach/public/www/doc/rtmach.html\n",
            "[CMU-CS 44] https://www.cs.cmu.edu/~fox/publications.html\n",
            "[CMU-CS 45] https://www.cs.cmu.edu/afs/cs.cmu.edu/user/copetas/www/public/video/acm.html\n",
            "[CMU-CS 46] https://www.cs.cmu.edu/afs/cs.cmu.edu/user/copetas/www/public/video/simon96.html\n",
            "[CMU-CS 47] https://www.cs.cmu.edu/afs/cs.cmu.edu/user/copetas/www/public/video/hopper97.html\n",
            "[CMU-CS 48] https://www.cs.cmu.edu/afs/cs.cmu.edu/user/copetas/www/public/video/dls.html\n",
            "[CMU-CS 49] https://www.cs.cmu.edu/afs/cs.cmu.edu/user/copetas/www/public/video/intel94.html\n",
            "[CMU-CS 50] https://www.cs.cmu.edu/afs/cs.cmu.edu/user/copetas/www/public/video/25th.html\n",
            "[CMU-CS 51] https://www.cs.cmu.edu/afs/cs.cmu.edu/project/mach/public/www/doc/documents_top.html\n",
            "[CMU-CS 52] https://www.cs.cmu.edu/directory/jamieg\n",
            "[CMU-CS 53] https://www.cs.cmu.edu/directory/hh11\n",
            "[CMU-CS 54] https://www.cs.cmu.edu/directory/kmcguiga\n",
            "[CMU-CS 55] https://www.cs.cmu.edu/directory/maryleew\n",
            "[CMU-CS 56] https://www.cs.cmu.edu/directory/ttodd\n",
            "[CMU-CS 57] https://www.cs.cmu.edu/directory/wehrer\n",
            "[CMU-CS 58] https://www.cs.cmu.edu/directory/katiemor\n",
            "[CMU-CS 59] https://www.cs.cmu.edu/directory/bm1x\n",
            "[CMU-CS 60] https://www.cs.cmu.edu/giving/\n",
            "[CMU-CS 61] https://www.cs.cmu.edu/directory/lynnetta\n",
            "[CMU-CS 62] https://www.cs.cmu.edu/directory/mhebert\n",
            "[CMU-CS 63] https://www.cs.cmu.edu/directory/nhatcher\n",
            "[CMU-CS 64] https://www.cs.cmu.edu/directory/djenkins\n",
            "[CMU-CS 65] https://www.cs.cmu.edu/directory/emirales\n",
            "[CMU-CS 66] https://www.cs.cmu.edu/directory/az28\n",
            "[CMU-CS 67] https://www.cs.cmu.edu/directory/poprocky\n",
            "[CMU-CS 68] https://www.cs.cmu.edu/directory/gdarakos\n",
            "[CMU-CS 69] https://www.cs.cmu.edu/directory/dhoffma2\n",
            "[CMU-CS 70] https://www.cs.cmu.edu/directory/lalford\n",
            "[CMU-CS 71] https://www.cs.cmu.edu/directory/pcompeau\n",
            "[CMU-CS 72] https://www.cs.cmu.edu/directory/stocky\n",
            "[CMU-CS 73] https://www.cs.cmu.edu/directory/mmalloy\n",
            "[CMU-CS 74] https://www.cs.cmu.edu/directory/rebodnar\n",
            "[CMU-CS 75] https://www.cs.cmu.edu/directory/ryanries\n",
            "[CMU-CS 76] https://www.cs.cmu.edu/directory/pll\n",
            "[CMU-CS 77] https://www.cs.cmu.edu/directory/rsimmons\n",
            "[CMU-CS 78] https://www.cs.cmu.edu/directory/tcortina\n",
            "[CMU-CS 79] https://www.cs.cmu.edu/directory/briannes\n",
            "[CMU-CS 80] https://www.cs.cmu.edu/directory/msimko\n",
            "[CMU-CS 81] https://www.cs.cmu.edu/directory/jlegault\n",
            "[CMU-CS 82] https://www.cs.cmu.edu/directory/emilypri\n",
            "[CMU-CS 83] https://www.cs.cmu.edu/directory/kerib\n",
            "[CMU-CS 84] https://www.cs.cmu.edu/directory/monikade\n",
            "[CMU-CS 85] https://www.cs.cmu.edu/directory/asoukovi\n",
            "[CMU-CS 86] https://www.cs.cmu.edu/directory/aaupperl\n",
            "[CMU-CS 87] https://www.cs.cmu.edu/directory/copetas\n",
            "[CMU-CS 88] https://www.cs.cmu.edu/directory/lambrou\n",
            "[CMU-CS 89] https://www.cs.cmu.edu/directory/mwein\n",
            "[CMU-CS 90] https://www.cs.cmu.edu/directory/kaylaw\n",
            "[CMU-CS 91] https://www.cs.cmu.edu/directory/haiyiz\n",
            "[CMU-CS 92] https://www.cs.cmu.edu/community-engagement/\n",
            "[CMU-CS 93] https://www.cs.cmu.edu/directory/mcadavid\n",
            "[CMU-CS 94] https://www.cs.cmu.edu/directory/zkolter\n",
            "[CMU-CS 95] https://www.cs.cmu.edu/directory/dhyde\n",
            "[CMU-CS 96] https://www.cs.cmu.edu/directory/cp3a\n",
            "[CMU-CS 97] https://www.cs.cmu.edu/directory/dcoleman\n",
            "[CMU-CS 98] https://www.cs.cmu.edu/directory/mlwalker\n",
            "[CMU-CS 99] https://www.cs.cmu.edu/directory/akohlhaa\n",
            "[CMU-CS 100] https://www.cs.cmu.edu/directory/dg4d\n",
            "[CMU-CS 101] https://www.cs.cmu.edu/cs-pathways/\n",
            "[CMU-CS 102] https://www.cs.cmu.edu/directory/nicholem\n",
            "[CMU-CS 103] https://www.cs.cmu.edu/directory/vpeet\n",
            "[CMU-CS 104] https://www.cs.cmu.edu/directory/srini\n",
            "[CMU-CS 105] https://www.cs.cmu.edu/partnerships/\n",
            "[CMU-CS 106] https://www.cs.cmu.edu/directory/gkantor\n",
            "[CMU-CS 107] https://www.cs.cmu.edu/directory/jgiacche\n",
            "[CMU-CS 108] https://www.cs.cmu.edu/directory/swerner\n",
            "[CMU-CS 109] https://www.cs.cmu.edu/directory/jloell\n",
            "[CMU-CS 110] https://www.cs.cmu.edu/directory/michelle\n",
            "[CMU-CS 111] https://www.cs.cmu.edu/directory/russells\n",
            "[CMU-CS 112] https://www.cs.cmu.edu/directory/mmaatwil\n",
            "[CMU-CS 113] https://www.cs.cmu.edu/directory/rdo\n",
            "[CMU-CS 114] https://www.cs.cmu.edu/directory/mkj\n",
            "[CMU-CS 115] https://www.cs.cmu.edu/directory/kschrece\n",
            "[CMU-CS 116] https://www.cs.cmu.edu/directory/bf1h\n",
            "[CMU-CS 117] https://www.cs.cmu.edu/directory/nicolasc\n",
            "[CMU-CS 118] https://www.cs.cmu.edu/directory/srinivas\n",
            "[CMU-CS 119] https://www.cs.cmu.edu/directory/cbstumpf\n",
            "[CMU-CS 120] https://www.cs.cmu.edu/directory/ws1j\n",
            "[CMU-CS 121] https://www.cs.cmu.edu/directory/lpadezan\n",
            "[CMU-CS 122] https://www.cs.cmu.edu/outreach\n",
            "[CMU-CS 123] https://www.cs.cmu.edu/news/carnegie-mellon-launches-undergraduate-degree-artificial-intelligence\n",
            "[CMU-CS 124] https://www.cs.cmu.edu/~scsfacts/awards.html\n",
            "[CMU-CS 125] https://www.cs.cmu.edu/deans-office/faculty-support-and-administration\n",
            "[CMU-CS 126] https://www.cs.cmu.edu/bs-in-artificial-intelligence/curriculum\n",
            "[CMU-CS 127] https://www.cs.cmu.edu/bs-in-artificial-intelligence/admissions\n",
            "[CMU-CS 128] https://www.cs.cmu.edu/~ref/\n",
            "[CMU-CS 129] https://www.cs.cmu.edu/news/archive\n",
            "[CMU-CS 130] https://www.cs.cmu.edu/partnerships/industry-government/research\n",
            "[CMU-CS 131] https://www.cs.cmu.edu/news/2024/corn-sensing-robot\n",
            "[CMU-CS 132] https://www.cs.cmu.edu/academics/capstones/\n",
            "[CMU-CS 133] https://www.cs.cmu.edu/news/2024/newsserow-wildlife-conservation-tool\n",
            "[CMU-CS 134] https://www.cs.cmu.edu/news/2024/ai4bio\n",
            "[CMU-CS 135] https://www.cs.cmu.edu/partnerships/industry-government/workforce-development/index\n",
            "[CMU-CS 136] https://www.cs.cmu.edu/partnerships/industry-government/educational-projects\n",
            "[CMU-CS 137] https://www.cs.cmu.edu/news/2024/wasm-research-day\n",
            "[CMU-CS 138] https://www.cs.cmu.edu/outreach/\n",
            "[CMU-CS 139] https://www.cs.cmu.edu/scs-ece-career-center/\n"
          ]
        },
        {
          "output_type": "stream",
          "name": "stderr",
          "text": [
            "ERROR:trafilatura.downloads:download error: https://www.cs.cmu.edu/scs-ece-career-center/ HTTPSConnectionPool(host='www.cs.cmu.edu', port=443): Max retries exceeded with url: https://www.cs.cmu.edu/scs-career-center (Caused by ResponseError('too many redirects'))\n"
          ]
        },
        {
          "output_type": "stream",
          "name": "stdout",
          "text": [
            "[CMU-CS 139] https://www.cs.cmu.edu/index\n",
            "[CMU-CS 140] https://www.cs.cmu.edu/partnerships/meet-our-team\n",
            "[CMU-CS 141] https://www.cs.cmu.edu/partnerships/forms/contact\n",
            "[CMU-CS 142] https://www.cs.cmu.edu/afs/cs/project/mach/public/www/doc/abstracts/RTtimer.html\n",
            "[CMU-CS 143] https://www.cs.cmu.edu/afs/cs/project/mach/public/www/mach.html\n",
            "[CMU-CS 144] https://www.cs.cmu.edu/afs/cs/project/mach/public/www/doc/abstracts/RTM.html\n",
            "[CMU-CS 145] https://www.cs.cmu.edu/afs/cs/project/mach/public/www/doc/abstracts/RTSync.html\n",
            "[CMU-CS 146] https://www.cs.cmu.edu/afs/cs/project/mach/public/www/doc/documents_top.html\n"
          ]
        },
        {
          "output_type": "stream",
          "name": "stderr",
          "text": [
            "ERROR:trafilatura.downloads:not a 200 response: 403 for URL https://www.cs.cmu.edu/afs/cs/usr/grm/www/home.html\n"
          ]
        },
        {
          "output_type": "stream",
          "name": "stdout",
          "text": [
            "[CMU-CS 147] https://www.cs.cmu.edu/afs/cs/usr/grm/www/home.html\n",
            "[CMU-CS 147] https://www.cs.cmu.edu/afs/cs/project/mach/public/www/doc/publications.html\n",
            "[CMU-CS 148] https://www.cs.cmu.edu/afs/cs/project/mach/public/www/doc/osf.html\n",
            "[CMU-CS 149] https://www.cs.cmu.edu/afs/cs/project/mach/public/www/doc/tutorials.html\n",
            "[CMU-CS 150] https://www.cs.cmu.edu/afs/cs/project/mach/public/www/doc/books.html\n",
            "[CMU-CS 151] https://www.cs.cmu.edu/afs/cs/project/mach/public/www/doc/install.html\n",
            "[CMU-CS 152] https://www.cs.cmu.edu/bs-in-artificial-intelligence\n",
            "[CMU-CS 153] https://www.cs.cmu.edu/~ref/Universal-Translator.html\n",
            "[CMU-CS 154] https://www.cs.cmu.edu/cih/\n",
            "[CMU-CS 155] https://www.cs.cmu.edu/cmlh/\n",
            "[CMU-CS 156] https://www.cs.cmu.edu/wrc/\n",
            "[CMU-CS 157] https://www.cs.cmu.edu/initiatives/ai-maker-space/\n",
            "[CMU-CS 158] https://www.cs.cmu.edu/~wasm/wasm-research-day-2024.html\n",
            "[CMU-CS 159] https://www.cs.cmu.edu/afs/cs.cmu.edu/project/mach/public/www/FAQ.html\n"
          ]
        },
        {
          "output_type": "stream",
          "name": "stderr",
          "text": [
            "ERROR:trafilatura.downloads:not a 200 response: 404 for URL https://www.cs.cmu.edu/afs/cs.cmu.edu/project/art-6/www/rtmach.html\n"
          ]
        },
        {
          "output_type": "stream",
          "name": "stdout",
          "text": [
            "[CMU-CS 160] https://www.cs.cmu.edu/afs/cs.cmu.edu/project/art-6/www/rtmach.html\n",
            "[CMU-CS 160] https://www.cs.cmu.edu/afs/cs.cmu.edu/project/mach/public/www/overview.html\n",
            "[CMU-CS 161] https://www.cs.cmu.edu/afs/cs/project/mach/public/www/people-cur.html\n",
            "[CMU-CS 162] https://www.cs.cmu.edu/afs/cs/project/mach/public/www/people-former.html\n",
            "[CMU-CS 163] https://www.cs.cmu.edu/afs/cs.cmu.edu/project/mach/public/www/status.html\n",
            "[CMU-CS 164] https://www.cs.cmu.edu/afs/cs/project/mach/public/www/sources/sources_top.html\n",
            "[CMU-CS 165] https://www.cs.cmu.edu/afs/cs.cmu.edu/project/mach/public/www/projects/mach_us.html\n"
          ]
        },
        {
          "output_type": "stream",
          "name": "stderr",
          "text": [
            "ERROR:trafilatura.downloads:not a 200 response: 403 for URL https://www.cs.cmu.edu/afs/cs.cmu.edu/local/mosaic/common/omega/Web/SCS-HOME.html\n"
          ]
        },
        {
          "output_type": "stream",
          "name": "stdout",
          "text": [
            "[CMU-CS 166] https://www.cs.cmu.edu/afs/cs.cmu.edu/local/mosaic/common/omega/Web/SCS-HOME.html\n",
            "[CMU-CS 166] https://www.cs.cmu.edu/afs/cs/project/mach/public/www/doc/abstracts/bchen.thesis.html\n",
            "[CMU-CS 167] https://www.cs.cmu.edu/afs/cs/project/mach/public/www/doc/abstracts/asplosVM.html\n",
            "[CMU-CS 168] https://www.cs.cmu.edu/afs/cs/project/mach/public/www/doc/abstracts/mach3_intro.html\n",
            "[CMU-CS 169] https://www.cs.cmu.edu/afs/cs/project/mach/public/www/doc/abstracts/ipc.html\n",
            "[CMU-CS 170] https://www.cs.cmu.edu/afs/cs/project/mach/public/www/doc/abstracts/multiserver_interface.html\n",
            "[CMU-CS 171] https://www.cs.cmu.edu/afs/cs/project/mach/public/www/doc/abstracts/benchmark.html\n"
          ]
        },
        {
          "output_type": "stream",
          "name": "stderr",
          "text": [
            "ERROR:trafilatura.downloads:not a 200 response: 404 for URL https://www.cs.cmu.edu/afs/cs/project/mach/public/www/doc/abstracts/system.address.tracing.html File:\n"
          ]
        },
        {
          "output_type": "stream",
          "name": "stdout",
          "text": [
            "[CMU-CS 172] https://www.cs.cmu.edu/afs/cs/project/mach/public/www/doc/abstracts/system.address.tracing.html File:\n",
            "[CMU-CS 172] https://www.cs.cmu.edu/afs/cs/project/mach/public/www/doc/abstracts/machsys.html\n",
            "[CMU-CS 173] https://www.cs.cmu.edu/afs/cs/project/mach/public/www/doc/abstracts/cpuserver.html\n",
            "[CMU-CS 174] https://www.cs.cmu.edu/afs/cs/project/mach/public/www/doc/abstracts/netperf.html\n",
            "[CMU-CS 175] https://www.cs.cmu.edu/afs/cs/project/mach/public/www/doc/abstracts/netmemorysrv.html\n",
            "[CMU-CS 176] https://www.cs.cmu.edu/afs/cs/project/mach/public/www/doc/abstracts/pagereplace.html\n",
            "[CMU-CS 177] https://www.cs.cmu.edu/afs/cs/project/mach/public/www/doc/abstracts/user.level.protocols.html\n",
            "[CMU-CS 178] https://www.cs.cmu.edu/afs/cs/project/mach/public/www/doc/abstracts/midwaytr.html\n",
            "[CMU-CS 179] https://www.cs.cmu.edu/afs/cs/project/mach/public/www/doc/abstracts/threads87.html\n",
            "[CMU-CS 180] https://www.cs.cmu.edu/afs/cs/project/mach/public/www/doc/abstracts/newpktfilter.html\n",
            "[CMU-CS 181] https://www.cs.cmu.edu/afs/cs/project/mach/public/www/doc/abstracts/Rcs.html\n",
            "[CMU-CS 182] https://www.cs.cmu.edu/afs/cs/project/mach/public/www/doc/abstracts/X11_mem_behavior.html\n"
          ]
        },
        {
          "output_type": "stream",
          "name": "stderr",
          "text": [
            "ERROR:trafilatura.downloads:not a 200 response: 404 for URL https://www.cs.cmu.edu/afs/cs/project/mach/public/doc/unpublished/abstracts/mach-in-x11.html\n"
          ]
        },
        {
          "output_type": "stream",
          "name": "stdout",
          "text": [
            "[CMU-CS 183] https://www.cs.cmu.edu/afs/cs/project/mach/public/doc/unpublished/abstracts/mach-in-x11.html\n",
            "[CMU-CS 183] https://www.cs.cmu.edu/afs/cs/project/mach/public/www/doc/abstracts/cont_threads.html\n",
            "[CMU-CS 184] https://www.cs.cmu.edu/afs/cs/project/mach/public/www/doc/abstracts/mig.html\n",
            "[CMU-CS 185] https://www.cs.cmu.edu/afs/cs/project/mach/public/www/doc/abstracts/interpossys.html\n",
            "[CMU-CS 186] https://www.cs.cmu.edu/afs/cs/project/mach/public/www/doc/abstracts/MIvmm.html\n",
            "[CMU-CS 187] https://www.cs.cmu.edu/afs/cs/project/mach/public/www/doc/abstracts/debugger.html\n",
            "[CMU-CS 188] https://www.cs.cmu.edu/afs/cs/project/mach/public/www/doc/abstracts/dospaper.html\n",
            "[CMU-CS 189] https://www.cs.cmu.edu/afs/cs/project/mach/public/www/doc/abstracts/atm.html\n",
            "[CMU-CS 190] https://www.cs.cmu.edu/afs/cs/project/mach/public/www/doc/abstracts/mach_us-multiserver.html\n",
            "[CMU-CS 191] https://www.cs.cmu.edu/afs/cs/project/mach/public/www/doc/abstracts/monmanual.html\n",
            "[CMU-CS 192] https://www.cs.cmu.edu/afs/cs/project/mach/public/www/doc/abstracts/toolkit.html\n",
            "[CMU-CS 193] https://www.cs.cmu.edu/afs/cs/project/mach/public/www/doc/abstracts/machuse.html\n",
            "[CMU-CS 194] https://www.cs.cmu.edu/afs/cs/project/mach/public/www/doc/abstracts/midway.html\n",
            "[CMU-CS 195] https://www.cs.cmu.edu/afs/cs/project/mach/public/www/doc/abstracts/ipc2.html\n"
          ]
        },
        {
          "output_type": "stream",
          "name": "stderr",
          "text": [
            "ERROR:trafilatura.downloads:not a 200 response: 404 for URL https://www.cs.cmu.edu/afs/cs/project/mach/public/doc/unpublished/abstracts/datamovement.html\n"
          ]
        },
        {
          "output_type": "stream",
          "name": "stdout",
          "text": [
            "[CMU-CS 196] https://www.cs.cmu.edu/afs/cs/project/mach/public/doc/unpublished/abstracts/datamovement.html\n",
            "[CMU-CS 196] https://www.cs.cmu.edu/afs/cs/project/mach/public/www/doc/abstracts/IPCperf.html\n",
            "[CMU-CS 197] https://www.cs.cmu.edu/afs/cs/project/mach/public/www/doc/abstracts/defaultmm.html\n",
            "[CMU-CS 198] https://www.cs.cmu.edu/afs/cs/project/mach/public/www/doc/abstracts/os-memorysys.html\n",
            "[CMU-CS 199] https://www.cs.cmu.edu/afs/cs/project/mach/public/www/doc/abstracts/envmgr.html\n",
            "[CMU-CS 200] https://www.cs.cmu.edu/afs/cs/project/mach/public/www/doc/abstracts/cmultithread.html\n",
            "[CMU-CS 201] https://www.cs.cmu.edu/afs/cs/project/mach/public/www/doc/abstracts/dos-fs.html\n",
            "[CMU-CS 202] https://www.cs.cmu.edu/afs/cs/project/mach/public/www/doc/abstracts/non-blocking.html\n",
            "[CMU-CS 203] https://www.cs.cmu.edu/afs/cs/project/mach/public/www/doc/abstracts/mdos.html\n",
            "[CMU-CS 204] https://www.cs.cmu.edu/afs/cs/project/mach/public/www/doc/abstracts/manual.html\n",
            "[CMU-CS 205] https://www.cs.cmu.edu/afs/cs/project/mach/public/www/doc/abstracts/threadmgnt.html\n",
            "[CMU-CS 206] https://www.cs.cmu.edu/afs/cs/project/mach/public/www/doc/abstracts/dual-mem-com.html\n",
            "[CMU-CS 207] https://www.cs.cmu.edu/afs/cs/project/mach/public/www/doc/abstracts/schedsupport.html\n",
            "[CMU-CS 208] https://www.cs.cmu.edu/afs/cs/project/mach/public/www/doc/abstracts/discardable-pager.html\n",
            "[CMU-CS 209] https://www.cs.cmu.edu/afs/cs/project/mach/public/www/doc/abstracts/sched.concur.html\n",
            "[CMU-CS 210] https://www.cs.cmu.edu/afs/cs/project/mach/public/www/doc/abstracts/intro.html\n",
            "[CMU-CS 211] https://www.cs.cmu.edu/afs/cs/project/mach/public/www/doc/abstracts/mapfiles87.html\n",
            "[CMU-CS 212] https://www.cs.cmu.edu/afs/cs/project/mach/public/www/doc/abstracts/threads.html\n",
            "[CMU-CS 213] https://www.cs.cmu.edu/afs/cs/project/mach/public/www/doc/abstracts/exception.html\n",
            "[CMU-CS 214] https://www.cs.cmu.edu/afs/cs/project/mach/public/www/doc/abstracts/syskernel.html\n",
            "[CMU-CS 215] https://www.cs.cmu.edu/afs/cs/project/mach/public/www/doc/abstracts/IO.html\n",
            "[CMU-CS 216] https://www.cs.cmu.edu/afs/cs/project/mach/public/www/doc/abstracts/netmsgserver.html\n",
            "[CMU-CS 217] https://www.cs.cmu.edu/news/2024/woven-joins-wrc\n",
            "[CMU-CS 218] https://www.cs.cmu.edu/news/2024/wrc-expands\n",
            "[CMU-CS 219] https://www.cs.cmu.edu/news/2021/ai-maker-space-opens\n",
            "[CMU-CS 220] https://www.cs.cmu.edu/wrc\n"
          ]
        },
        {
          "output_type": "stream",
          "name": "stderr",
          "text": [
            "ERROR:trafilatura.utils:parsed tree length: 0, wrong data type or not valid HTML\n",
            "ERROR:trafilatura.core:empty HTML tree: None\n",
            "WARNING:trafilatura.core:discarding data: None\n"
          ]
        },
        {
          "output_type": "stream",
          "name": "stdout",
          "text": [
            "[CMU-CS 221] https://www.cs.cmu.edu/afs/cs/project/mach/public/FAQ/ftp.release\n"
          ]
        },
        {
          "output_type": "stream",
          "name": "stderr",
          "text": [
            "ERROR:trafilatura.utils:parsed tree length: 0, wrong data type or not valid HTML\n",
            "ERROR:trafilatura.core:empty HTML tree: None\n",
            "WARNING:trafilatura.core:discarding data: None\n"
          ]
        },
        {
          "output_type": "stream",
          "name": "stdout",
          "text": [
            "[CMU-CS 221] https://www.cs.cmu.edu/afs/cs/project/mach/public/FAQ/doc.info\n"
          ]
        },
        {
          "output_type": "stream",
          "name": "stderr",
          "text": [
            "ERROR:trafilatura.utils:parsed tree length: 0, wrong data type or not valid HTML\n",
            "ERROR:trafilatura.core:empty HTML tree: None\n",
            "WARNING:trafilatura.core:discarding data: None\n"
          ]
        },
        {
          "output_type": "stream",
          "name": "stdout",
          "text": [
            "[CMU-CS 221] https://www.cs.cmu.edu/afs/cs/project/mach/public/FAQ/i386_announce\n"
          ]
        },
        {
          "output_type": "stream",
          "name": "stderr",
          "text": [
            "ERROR:trafilatura.utils:parsed tree length: 1, wrong data type or not valid HTML\n",
            "ERROR:trafilatura.core:empty HTML tree: None\n",
            "WARNING:trafilatura.core:discarding data: None\n"
          ]
        },
        {
          "output_type": "stream",
          "name": "stdout",
          "text": [
            "[CMU-CS 221] https://www.cs.cmu.edu/afs/cs/project/mach/public/FAQ/HURD.info\n"
          ]
        },
        {
          "output_type": "stream",
          "name": "stderr",
          "text": [
            "ERROR:trafilatura.utils:parsed tree length: 1, wrong data type or not valid HTML\n",
            "ERROR:trafilatura.core:empty HTML tree: None\n",
            "WARNING:trafilatura.core:discarding data: None\n"
          ]
        },
        {
          "output_type": "stream",
          "name": "stdout",
          "text": [
            "[CMU-CS 221] https://www.cs.cmu.edu/afs/cs/project/mach/public/FAQ/linux.info\n"
          ]
        },
        {
          "output_type": "stream",
          "name": "stderr",
          "text": [
            "ERROR:trafilatura.utils:parsed tree length: 0, wrong data type or not valid HTML\n",
            "ERROR:trafilatura.core:empty HTML tree: None\n",
            "WARNING:trafilatura.core:discarding data: None\n"
          ]
        },
        {
          "output_type": "stream",
          "name": "stdout",
          "text": [
            "[CMU-CS 221] https://www.cs.cmu.edu/afs/cs/project/mach/public/FAQ/rs6k_announce\n"
          ]
        },
        {
          "output_type": "stream",
          "name": "stderr",
          "text": [
            "ERROR:trafilatura.utils:parsed tree length: 0, wrong data type or not valid HTML\n",
            "ERROR:trafilatura.core:empty HTML tree: None\n",
            "WARNING:trafilatura.core:discarding data: None\n"
          ]
        },
        {
          "output_type": "stream",
          "name": "stdout",
          "text": [
            "[CMU-CS 221] https://www.cs.cmu.edu/afs/cs/project/mach/public/FAQ/mailing-lists.info\n"
          ]
        },
        {
          "output_type": "stream",
          "name": "stderr",
          "text": [
            "ERROR:trafilatura.utils:parsed tree length: 1, wrong data type or not valid HTML\n",
            "ERROR:trafilatura.core:empty HTML tree: None\n",
            "WARNING:trafilatura.core:discarding data: None\n"
          ]
        },
        {
          "output_type": "stream",
          "name": "stdout",
          "text": [
            "[CMU-CS 221] https://www.cs.cmu.edu/afs/cs/project/mach/public/FAQ/platforms\n"
          ]
        },
        {
          "output_type": "stream",
          "name": "stderr",
          "text": [
            "ERROR:trafilatura.utils:parsed tree length: 0, wrong data type or not valid HTML\n",
            "ERROR:trafilatura.core:empty HTML tree: None\n",
            "WARNING:trafilatura.core:discarding data: None\n"
          ]
        },
        {
          "output_type": "stream",
          "name": "stdout",
          "text": [
            "[CMU-CS 221] https://www.cs.cmu.edu/afs/cs/project/mach/public/FAQ/MacMach.demise\n"
          ]
        },
        {
          "output_type": "stream",
          "name": "stderr",
          "text": [
            "ERROR:trafilatura.utils:parsed tree length: 1, wrong data type or not valid HTML\n",
            "ERROR:trafilatura.core:empty HTML tree: None\n",
            "WARNING:trafilatura.core:discarding data: None\n"
          ]
        },
        {
          "output_type": "stream",
          "name": "stdout",
          "text": [
            "[CMU-CS 221] https://www.cs.cmu.edu/afs/cs/project/mach/public/FAQ/license.info\n"
          ]
        },
        {
          "output_type": "stream",
          "name": "stderr",
          "text": [
            "ERROR:trafilatura.utils:parsed tree length: 0, wrong data type or not valid HTML\n",
            "ERROR:trafilatura.core:empty HTML tree: None\n",
            "WARNING:trafilatura.core:discarding data: None\n"
          ]
        },
        {
          "output_type": "stream",
          "name": "stdout",
          "text": [
            "[CMU-CS 221] https://www.cs.cmu.edu/afs/cs/project/mach/public/FAQ/mach.books\n"
          ]
        },
        {
          "output_type": "stream",
          "name": "stderr",
          "text": [
            "ERROR:trafilatura.utils:parsed tree length: 0, wrong data type or not valid HTML\n",
            "ERROR:trafilatura.core:empty HTML tree: None\n",
            "WARNING:trafilatura.core:discarding data: None\n"
          ]
        },
        {
          "output_type": "stream",
          "name": "stdout",
          "text": [
            "[CMU-CS 221] https://www.cs.cmu.edu/afs/cs/project/mach/public/FAQ/NeXT.release\n"
          ]
        },
        {
          "output_type": "stream",
          "name": "stderr",
          "text": [
            "ERROR:trafilatura.utils:parsed tree length: 1, wrong data type or not valid HTML\n",
            "ERROR:trafilatura.core:empty HTML tree: None\n",
            "WARNING:trafilatura.core:discarding data: None\n"
          ]
        },
        {
          "output_type": "stream",
          "name": "stdout",
          "text": [
            "[CMU-CS 221] https://www.cs.cmu.edu/afs/cs/project/mach/public/FAQ/mach3_supinfo\n"
          ]
        },
        {
          "output_type": "stream",
          "name": "stderr",
          "text": [
            "ERROR:trafilatura.utils:parsed tree length: 0, wrong data type or not valid HTML\n",
            "ERROR:trafilatura.core:empty HTML tree: None\n",
            "WARNING:trafilatura.core:discarding data: None\n"
          ]
        },
        {
          "output_type": "stream",
          "name": "stdout",
          "text": [
            "[CMU-CS 221] https://www.cs.cmu.edu/afs/cs/project/mach/public/FAQ/distribution.info\n",
            "[CMU-CS 221] https://www.cs.cmu.edu/afs/cs.cmu.edu/user/danner/www/danner.html\n"
          ]
        },
        {
          "output_type": "stream",
          "name": "stderr",
          "text": [
            "ERROR:trafilatura.downloads:not a 200 response: 403 for URL https://www.cs.cmu.edu/afs/cs.cmu.edu/user/grm/www/home.html\n"
          ]
        },
        {
          "output_type": "stream",
          "name": "stdout",
          "text": [
            "[CMU-CS 222] https://www.cs.cmu.edu/afs/cs.cmu.edu/user/grm/www/home.html\n",
            "[CMU-CS 222] https://www.cs.cmu.edu/afs/cs.cmu.edu/user/mrt/www/home.html\n",
            "[CMU-CS 223] https://www.cs.cmu.edu/afs/cs/project/mach/public/www/mach_us/abstracts/us-install.html\n",
            "[CMU-CS 224] https://www.cs.cmu.edu/afs/cs/project/mach/public/www/mach_us/abstracts/libus-ref-1192.html\n",
            "[CMU-CS 225] https://www.cs.cmu.edu/afs/cs/project/mach/public/www/mach_us/mach_us_whatis.html\n",
            "[CMU-CS 226] https://www.cs.cmu.edu/afs/cs/project/mach/public/www/mach_us/abstracts/usenix-cpp-92.html\n",
            "[CMU-CS 227] https://www.cs.cmu.edu/afs/cs/project/mach/public/www/mach_us/abstracts/overview-0791.html\n",
            "[CMU-CS 228] https://www.cs.cmu.edu/afs/cs/project/mach/public/www/mach_us/abstracts/naming-0891.html\n",
            "[CMU-CS 229] https://www.cs.cmu.edu/afs/cs/project/mach/public/www/mach_us/abstracts/us_analyze.html\n",
            "[CMU-CS 230] https://www.cs.cmu.edu/afs/cs/project/mach/public/www/mach_us/abstracts/i-wooos-91.html\n",
            "[CMU-CS 231] https://www.cs.cmu.edu/afs/cs/project/mach/public/www/mach_us/abstracts/machnix-91.html\n",
            "[CMU-CS 232] https://www.cs.cmu.edu/afs/cs/project/mach/public/www/mach_us/abstracts/us_client_server.html\n"
          ]
        },
        {
          "output_type": "stream",
          "name": "stderr",
          "text": [
            "ERROR:trafilatura.utils:parsed tree length: 1, wrong data type or not valid HTML\n",
            "ERROR:trafilatura.core:empty HTML tree: None\n",
            "WARNING:trafilatura.core:discarding data: None\n"
          ]
        },
        {
          "output_type": "stream",
          "name": "stdout",
          "text": [
            "[CMU-CS 233] https://www.cs.cmu.edu/afs/cs/project/pdl/ftp/TIP/SOSP15.ps\n"
          ]
        },
        {
          "output_type": "stream",
          "name": "stderr",
          "text": [
            "ERROR:trafilatura.downloads:not a 200 response: 404 for URL https://www.cs.cmu.edu/afs/cs.cmu.edu/project/pdl/WWW/MultiC/WWW/top.html\n"
          ]
        },
        {
          "output_type": "stream",
          "name": "stdout",
          "text": [
            "[CMU-CS 233] https://www.cs.cmu.edu/afs/cs.cmu.edu/project/pdl/WWW/MultiC/WWW/top.html\n"
          ]
        },
        {
          "output_type": "stream",
          "name": "stderr",
          "text": [
            "ERROR:trafilatura.downloads:not a 200 response: 404 for URL https://www.cs.cmu.edu/afs/cs/project/pdl/ftp/ParityLogging/tr94-170.abstract\n"
          ]
        },
        {
          "output_type": "stream",
          "name": "stdout",
          "text": [
            "[CMU-CS 233] https://www.cs.cmu.edu/afs/cs/project/pdl/ftp/ParityLogging/tr94-170.abstract\n",
            "[CMU-CS 233] https://www.cs.cmu.edu/afs/cs.cmu.edu/project/mach/public/www/mach.html\n"
          ]
        },
        {
          "output_type": "stream",
          "name": "stderr",
          "text": [
            "ERROR:trafilatura.downloads:not a 200 response: 404 for URL https://www.cs.cmu.edu/afs/cs/project/pdl/ftp/ParityLogging/tr94-170.ps\n"
          ]
        },
        {
          "output_type": "stream",
          "name": "stdout",
          "text": [
            "[CMU-CS 234] https://www.cs.cmu.edu/afs/cs/project/pdl/ftp/ParityLogging/tr94-170.ps\n"
          ]
        },
        {
          "output_type": "stream",
          "name": "stderr",
          "text": [
            "ERROR:trafilatura.utils:parsed tree length: 1, wrong data type or not valid HTML\n",
            "ERROR:trafilatura.core:empty HTML tree: None\n",
            "WARNING:trafilatura.core:discarding data: None\n"
          ]
        },
        {
          "output_type": "stream",
          "name": "stdout",
          "text": [
            "[CMU-CS 234] https://www.cs.cmu.edu/afs/cs/project/nectar-io/ftp/ParityLogging/TR93-200.ps\n"
          ]
        },
        {
          "output_type": "stream",
          "name": "stderr",
          "text": [
            "ERROR:trafilatura.downloads:not a 200 response: 404 for URL https://www.cs.cmu.edu/afs/cs/project/pdl/WWW/HTML-Papers/Compcon95/final.fm.html\n"
          ]
        },
        {
          "output_type": "stream",
          "name": "stdout",
          "text": [
            "[CMU-CS 234] https://www.cs.cmu.edu/afs/cs/project/pdl/WWW/HTML-Papers/Compcon95/final.fm.html\n",
            "[CMU-CS 234] https://www.cs.cmu.edu/afs/cs/project/pdl/ftp/TIP/SOSP15_abstract.html\n"
          ]
        },
        {
          "output_type": "stream",
          "name": "stderr",
          "text": [
            "ERROR:trafilatura.utils:parsed tree length: 1, wrong data type or not valid HTML\n",
            "ERROR:trafilatura.core:empty HTML tree: None\n",
            "WARNING:trafilatura.core:discarding data: None\n"
          ]
        },
        {
          "output_type": "stream",
          "name": "stdout",
          "text": [
            "[CMU-CS 235] https://www.cs.cmu.edu/afs/cs/project/pdl/ftp/SPFS/Compcon95.ps\n",
            "[CMU-CS 235] https://www.cs.cmu.edu/afs/cs/project/nectar-io/ftp/ParityLogging/ISCA93.abstract\n",
            "[CMU-CS 236] https://www.cs.cmu.edu/afs/cs/project/mach/public/www/projects/mach_us.html\n",
            "[CMU-CS 237] https://www.cs.cmu.edu/index.html\n"
          ]
        },
        {
          "output_type": "stream",
          "name": "stderr",
          "text": [
            "ERROR:trafilatura.downloads:not a 200 response: 404 for URL https://www.cs.cmu.edu/index.html\n"
          ]
        },
        {
          "output_type": "stream",
          "name": "stdout",
          "text": [
            "[CMU-CS 237] https://www.cs.cmu.edu/Publications/publications.html\n"
          ]
        },
        {
          "output_type": "stream",
          "name": "stderr",
          "text": [
            "ERROR:trafilatura.downloads:not a 200 response: 404 for URL https://www.cs.cmu.edu/Publications/publications.html\n"
          ]
        },
        {
          "output_type": "stream",
          "name": "stdout",
          "text": [
            "✅ CMU-CS done. 236 pages scraped.\n",
            "\n",
            "\n",
            "====== Crawling CMU-ML ======\n",
            "[CMU-ML 1] https://www.ml.cmu.edu/research/index.html\n",
            "[CMU-ML 2] https://www.ml.cmu.edu/academics/minor-senior-projects.html\n",
            "[CMU-ML 3] https://www.ml.cmu.edu//www.cmu.edu/legal/\n",
            "[CMU-ML 4] https://www.ml.cmu.edu/research/data-analysis-projects.html\n",
            "[CMU-ML 5] https://www.ml.cmu.edu/people/core-faculty.html\n",
            "[CMU-ML 6] https://www.ml.cmu.edu/research/phd-dissertations.html\n",
            "[CMU-ML 7] https://www.ml.cmu.edu/research/technical-reports.html\n",
            "[CMU-ML 8] https://www.ml.cmu.edu//www.cmu.edu/\n",
            "[CMU-ML 9] https://www.ml.cmu.edu/index\n",
            "[CMU-ML 10] https://www.ml.cmu.edu/Faculty_Hiring.html\n",
            "[CMU-ML 11] https://www.ml.cmu.edu\n",
            "[CMU-ML 12] https://www.ml.cmu.edu/current-students/student-orientation/\n"
          ]
        },
        {
          "output_type": "stream",
          "name": "stderr",
          "text": [
            "ERROR:trafilatura.utils:parsed tree length: 1, wrong data type or not valid HTML\n"
          ]
        },
        {
          "output_type": "stream",
          "name": "stdout",
          "text": [
            "[CMU-ML 13] https://www.ml.cmu.edu/cmsint/mldcmu.rss\n"
          ]
        },
        {
          "output_type": "stream",
          "name": "stderr",
          "text": [
            "ERROR:trafilatura.core:empty HTML tree: None\n",
            "WARNING:trafilatura.core:discarding data: None\n"
          ]
        },
        {
          "output_type": "stream",
          "name": "stdout",
          "text": [
            "[CMU-ML 13] https://www.ml.cmu.edu/directions\n",
            "[CMU-ML 14] https://www.ml.cmu.edu/about/contact-us.html\n",
            "[CMU-ML 15] https://www.ml.cmu.edu/resources/\n",
            "[CMU-ML 16] https://www.ml.cmu.edu/current-students/\n",
            "[CMU-ML 17] https://www.ml.cmu.edu/current-students/frequently-asked-questions.html\n",
            "✅ CMU-ML done. 17 pages scraped.\n",
            "\n"
          ]
        }
      ]
    }
  ]
}